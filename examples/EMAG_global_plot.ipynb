{
 "cells": [
  {
   "cell_type": "code",
   "execution_count": 1,
   "metadata": {},
   "outputs": [],
   "source": [
    "%matplotlib inline\n",
    "\n",
    "from GeoToolkit.Mag import Mag, ProblemSetter, MathUtils, Simulator, DataIO\n",
    "import matplotlib.pyplot as plt\n",
    "from GeoToolkit.graphics import graphics\n",
    "import numpy as np\n",
    "import scipy.sparse as sp\n",
    "from scipy.spatial import Delaunay\n",
    "from skimage import exposure\n",
    "from geoh5io.workspace import Workspace\n",
    "from geoh5io.objects import Surface"
   ]
  },
  {
   "cell_type": "code",
   "execution_count": 2,
   "metadata": {
    "scrolled": false
   },
   "outputs": [
    {
     "name": "stdout",
     "output_type": "stream",
     "text": [
      "\n"
     ]
    },
    {
     "data": {
      "application/vnd.jupyter.widget-view+json": {
       "model_id": "d8657733f484452b94c83a50d9827370",
       "version_major": 2,
       "version_minor": 0
      },
      "text/plain": [
       "interactive(children=(RadioButtons(description='File Type:', options=('Local', 'Cloud'), value='Local'), Text(…"
      ]
     },
     "metadata": {},
     "output_type": "display_data"
    }
   ],
   "source": [
    "download = DataIO.fetchData(path=r\"C:\\Users\\DominiqueFournier\\Documents\\GIT\\GeoToolkit\\Notebooks\\Output\", localCloud='Local')\n",
    "display(download)"
   ]
  },
  {
   "cell_type": "code",
   "execution_count": 3,
   "metadata": {},
   "outputs": [
    {
     "data": {
      "application/vnd.jupyter.widget-view+json": {
       "model_id": "56de8dc901f14a118b5d09c2ef127e59",
       "version_major": 2,
       "version_minor": 0
      },
      "text/plain": [
       "interactive(children=(Dropdown(description='ColorMap', index=3, options=('viridis', 'plasma', 'magma', 'Spectr…"
      ]
     },
     "metadata": {},
     "output_type": "display_data"
    }
   ],
   "source": [
    "if download.result is not None:\n",
    "    if (download.result[1] == \"CSV\")  :\n",
    "        grid = Simulator.dataGriddingWidget(download.result[0], marker=False, dataColumn=3, Resolution=100, Method='linear')\n",
    "        display(grid)\n",
    "    else:\n",
    "        grid = Simulator.dataGridGeoref(download.result[0])\n",
    "        display(grid)"
   ]
  },
  {
   "cell_type": "code",
   "execution_count": 5,
   "metadata": {},
   "outputs": [
    {
     "data": {
      "application/vnd.jupyter.widget-view+json": {
       "model_id": "9227d8123b5944ef9554722a1774a0bf",
       "version_major": 2,
       "version_minor": 0
      },
      "text/plain": [
       "interactive(children=(FloatSlider(value=-5.389099242057903e-15, continuous_update=False, description='East', m…"
      ]
     },
     "metadata": {},
     "output_type": "display_data"
    }
   ],
   "source": [
    "if download.result is not None:\n",
    "    selection = Simulator.setDataExtentWidget(grid.result)\n",
    "    display(selection)"
   ]
  },
  {
   "cell_type": "code",
   "execution_count": 29,
   "metadata": {},
   "outputs": [],
   "source": [
    "\n",
    "sub = 5\n",
    "\n",
    "grid_shape = selection.result.values.shape\n",
    "values = (selection.result.values.copy())\n",
    "indNan = np.isnan(values)\n",
    "values[indNan] = 0\n",
    "values = values[::sub, ::sub].ravel()\n",
    "\n",
    "\n",
    "theta = selection.result.gridCC[:, 0].reshape(grid_shape, order='F')[::sub, ::sub].ravel()\n",
    "phi = selection.result.gridCC[:, 1].reshape(grid_shape, order='F')[::sub, ::sub].ravel()\n",
    "\n",
    "\n",
    "R = 5380\n",
    "R = (R+(values)/10)\n",
    "x = R * np.cos(np.deg2rad(phi)) * np.cos(np.deg2rad(theta))\n",
    "y = R * np.cos(np.deg2rad(phi)) * np.sin(np.deg2rad(theta))\n",
    "z = R * np.sin(np.deg2rad(phi))\n",
    "\n",
    "# lon = np.deg2rad(27)#np.deg2rad(15)\n",
    "# lat = np.deg2rad(67.7)#np.deg2rad(30)\n",
    "# r = 6000\n",
    "# xloc = r * np.cos(lat) * np.cos(lon)\n",
    "# yloc = r * np.cos(lat) * np.sin(lon)\n",
    "# zloc = r * np.sin(lat)\n",
    "\n",
    "# Triangulate the surface\n",
    "surf = Delaunay(np.c_[theta, phi])"
   ]
  },
  {
   "cell_type": "code",
   "execution_count": 30,
   "metadata": {},
   "outputs": [],
   "source": [
    "# Interpolate values on cell\n",
    "values = np.mean(np.c_[\n",
    "                     values[surf.simplices[:, 0]],\n",
    "                     values[surf.simplices[:, 1]],\n",
    "                     values[surf.simplices[:, 2]]\n",
    "                 ], axis=1\n",
    ")\n",
    "\n"
   ]
  },
  {
   "cell_type": "code",
   "execution_count": 32,
   "metadata": {},
   "outputs": [],
   "source": [
    "# Create a geoh5 surface and export\n",
    "workspace = Workspace(\"EMAG_V2.geoh5\")\n",
    "surface, data = Surface.create(\n",
    "    workspace, vertices=np.c_[x, y, z], \n",
    "    cells=surf.simplices,\n",
    "    \n",
    "     data={\"TMI\": [\"CELL\", values]})\n",
    "workspace.save_entity(surface)\n",
    "workspace.finalize()\n"
   ]
  },
  {
   "cell_type": "markdown",
   "metadata": {},
   "source": [
    "# Repeat for EWGM2012 (GRAV)"
   ]
  },
  {
   "cell_type": "code",
   "execution_count": 8,
   "metadata": {},
   "outputs": [
    {
     "data": {
      "text/plain": [
       "[(1231.4457588686, -454.90740190488145, 9441.284918312835),\n",
       " (-175.24263603459463, -1318.4813079291368, 327.81394328350405),\n",
       " (-0.8833888161359897, -0.43374442628583354, 0.17745414109517918)]"
      ]
     },
     "execution_count": 8,
     "metadata": {},
     "output_type": "execute_result"
    }
   ],
   "source": [
    "# from matplotlib import cm\n",
    "# from skimage import exposure\n",
    "\n",
    "# values = (selection.result.values.copy())\n",
    "# indNan = np.isnan(values)\n",
    "# values[indNan] = 0\n",
    "\n",
    "# vmin, vmax = -200, 500\n",
    "\n",
    "# cdf, bins = exposure.cumulative_distribution(\n",
    "#         (values[(values < vmax) *\n",
    "#                        (values > vmin)]), nbins=256\n",
    "# )\n",
    "# cmap = graphics.equalizeColormap('Spectral_r', bins, cdf)\n",
    "# # rgb = cmap.to_rgba((((values.T)).flatten(order='F')))\n",
    "# # # cmap.set_clim(vmin=0, vmax=1000)\n",
    "\n",
    "\n",
    "# # rgb[indNan.reshape(-1),:] = np.nan\n",
    "\n",
    "# # texture = pv.numpy_to_texture(rgb[:,:3].reshape((values.shape[0], values.shape[1], 3), order='F'))\n",
    "\n",
    "\n",
    "# theta = (selection.result.gridCC[:, 0].reshape(values.shape, order='F'))\n",
    "# phi = (selection.result.gridCC[:, 1].reshape(values.shape, order='F'))\n",
    "\n",
    "\n",
    "# R = 5380\n",
    "# R = (R+(values)/5)\n",
    "# x = R * np.cos(np.deg2rad(phi)) * np.cos(np.deg2rad(theta))\n",
    "# y = R * np.cos(np.deg2rad(phi)) * np.sin(np.deg2rad(theta))\n",
    "# z = R * np.sin(np.deg2rad(phi))\n",
    "\n",
    "# # x = selection.result.gridCC[:, 0].reshape(values.shape, order='F')\n",
    "# # y = selection.result.gridCC[:, 1].reshape(values.shape, order='F')\n",
    "# # z = values/5\n",
    "\n",
    "# x[indNan] = np.nan\n",
    "# values[indNan] = np.nan\n",
    "# pvgrid = pv.StructuredGrid(\n",
    "#     x.T, \n",
    "#     y.T, \n",
    "#     z.T)\n",
    "# # grid.plot()\n",
    "# # grid.warp_by_scalar()\n",
    "# plotter = pv.Plotter(notebook=False)\n",
    "# # pvgrid.texture_map_to_plane(inplace=True)\n",
    "# plotter.add_mesh(pvgrid, scalars=values, cmap=cmap)\n",
    "\n",
    "# # plotter.export_vtkjs(\"EMAGv2_NorthAtlantic\")\n",
    "# # plotter.show(auto_close=False)\n",
    "# # plotter.export_vtkjs(\"EMAGv2_NorthAtlantic\")\n",
    "# # plotter.close()\n",
    "# # plotter.show(\n",
    "# #     cpos=[(5129.611755301267, 2157.873161782082, 5926.635574173455),\n",
    "# #  (2089.574112805277, -37.952885761104625, 4555.515700679695),\n",
    "# #  (-0.2767863524236539, -0.20325006175741522, 0.9391904639143307)], \n",
    "# #     screenshot=\"EMAG90d.png\")\n",
    "# # plotter.screenshot(\"EMAG90d.png\")\n",
    "# lon = np.deg2rad(27)#np.deg2rad(15)\n",
    "# lat = np.deg2rad(67.7)#np.deg2rad(30)\n",
    "# r = 6000\n",
    "# xloc = r * np.cos(lat) * np.cos(lon)\n",
    "# yloc = r * np.cos(lat) * np.sin(lon)\n",
    "# zloc = r * np.sin(lat)\n",
    "\n",
    "# plotter.show(cpos=[(xloc, yloc, zloc),\n",
    "#  (0, 0, 500),\n",
    "#  (-0., 0., 1)],screenshot=\"EWGM2012_15d_Europe.png\")\n",
    "# # Large view\n",
    "# # plotter.show(cpos=[(6053.18060192332, 1419.8421698073148, 6415.325176210674),\n",
    "# #  (2044.2806608584788, -10.673701877581124, 4612.252867030859),\n",
    "# #  (-0.3596642657094726, -0.15237282916552064, 0.9205564278759674)])\n",
    "\n",
    "# # Middle view\n",
    "# # plotter.show(cpos=[(3187.0998318049637, 2081.707503888414, 5001.011871672062),\n",
    "# #  (1848.549824736279, 751.5975240218856, 4727.89196482181),\n",
    "# #  (-0.05526397612824547, -0.14716860756088546, 0.9875663491082951)])\n",
    "\n",
    "\n",
    "# # Small view\n",
    "# # Read the GeoTIFF as a vtkTexture:\n",
    "\n",
    "\n",
    "# # plotter.show(cpos=[(2481.6857948002835, 1275.3562368857397, 5078.085082348304),\n",
    "# #  (1712.322032440504, 864.7372440254018, 4902.9769571772285),\n",
    "# #  (-0.1761321093785013, -0.08808508776671177, 0.9804175117566039)],screenshot=\"EWGM2012_Kevitsa.png\")\n",
    "\n",
    "\n",
    "# # Cartesian Kevitsa plotter\n",
    "# # plotter.show( cpos=[(3503537.9917390947, 7495043.372086444, 11444.588074577092),\n",
    "# #  (3498073.9770745155, 7510717.605823356, 435.0068286203108),\n",
    "# #  (-0.06888187753633372, 0.5572240290585513, 0.8275002528016681)]\n",
    "# #             )"
   ]
  }
 ],
 "metadata": {
  "kernelspec": {
   "display_name": "Python 3",
   "language": "python",
   "name": "python3"
  },
  "language_info": {
   "codemirror_mode": {
    "name": "ipython",
    "version": 3
   },
   "file_extension": ".py",
   "mimetype": "text/x-python",
   "name": "python",
   "nbconvert_exporter": "python",
   "pygments_lexer": "ipython3",
   "version": "3.7.4"
  }
 },
 "nbformat": 4,
 "nbformat_minor": 2
}
