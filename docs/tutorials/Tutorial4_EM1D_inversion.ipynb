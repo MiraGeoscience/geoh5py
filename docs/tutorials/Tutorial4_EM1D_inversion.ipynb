{
 "cells": [
  {
   "cell_type": "markdown",
   "metadata": {},
   "source": [
    "# Tutorial 4: Stitched EM1D Inversion \n",
    "In this tutorial we demosntrate how to invert EM data using SimPEG\n",
    "\n",
    "[Youtube demo here!!](https://youtu.be/unnuIjxPvug)"
   ]
  },
  {
   "cell_type": "code",
   "execution_count": null,
   "metadata": {},
   "outputs": [],
   "source": [
    "from shutil import copyfile\n",
    "from functions.widgets.inversion import em1d_inversion_widget\n",
    "from functions.widgets.plotting import plot_em_data_widget\n",
    "\n",
    "# Lets create a working copy\n",
    "my_h5file = r\"assets/FlinFlon.geoh5\"\n",
    "  \n",
    "new_file = copyfile(my_h5file, my_h5file[:-6] + \"_work.geoh5\") #my_h5file[:-6] + \"_work.geoh5\"#"
   ]
  },
  {
   "cell_type": "markdown",
   "metadata": {},
   "source": [
    "Define a survey\n",
    "----"
   ]
  },
  {
   "cell_type": "code",
   "execution_count": null,
   "metadata": {},
   "outputs": [],
   "source": [
    "survey = em1d_inversion_widget(new_file, object_name=\"Workspace.Data_TEM_pseudo3D\")\n",
    "display(survey)"
   ]
  },
  {
   "cell_type": "markdown",
   "metadata": {},
   "source": [
    "Plot the observed and predicted \n",
    "-----\n",
    "You can compare the observed and predicted as the inversion continues"
   ]
  },
  {
   "cell_type": "code",
   "execution_count": null,
   "metadata": {},
   "outputs": [],
   "source": [
    "plot_em_data_widget(new_file)"
   ]
  },
  {
   "cell_type": "code",
   "execution_count": null,
   "metadata": {},
   "outputs": [],
   "source": []
  }
 ],
 "metadata": {
  "kernelspec": {
   "display_name": "Python 3",
   "language": "python",
   "name": "python3"
  },
  "language_info": {
   "codemirror_mode": {
    "name": "ipython",
    "version": 3
   },
   "file_extension": ".py",
   "mimetype": "text/x-python",
   "name": "python",
   "nbconvert_exporter": "python",
   "pygments_lexer": "ipython3",
   "version": "3.7.4"
  }
 },
 "nbformat": 4,
 "nbformat_minor": 2
}
