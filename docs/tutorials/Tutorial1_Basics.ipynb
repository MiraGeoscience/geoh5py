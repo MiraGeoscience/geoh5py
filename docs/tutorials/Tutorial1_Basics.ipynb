{
 "cells": [
  {
   "cell_type": "markdown",
   "metadata": {},
   "source": [
    "# Tutorial 1: Basics\n",
    "This tutorial demonstrates the basic operations handled by the **gh5py** library. \n",
    "\n",
    "You learn how to:\n",
    "\n",
    "* Create a workspace\n",
    "* Create groups\n",
    "* Create a point objects with data"
   ]
  },
  {
   "cell_type": "markdown",
   "metadata": {},
   "source": [
    "Create/loading a workspace\n",
    "---------------------------------------\n",
    "\n",
    "The core element of a project is its ``Workspace``. The workspace holds core information about the corresponding `geoh5` database and all entities present in the project. \n",
    "\n",
    "![Workspace](./images/Workspace.png)\n",
    "\n",
    "You can either open an existing project or create a new project by simply entering the desired file name:"
   ]
  },
  {
   "cell_type": "code",
   "execution_count": null,
   "metadata": {},
   "outputs": [],
   "source": [
    "from geoh5io.workspace import Workspace\n",
    "\n",
    "# Create a new project named \"my_project\"\n",
    "workspace = Workspace(\"assets/my_project.geoh5\")"
   ]
  },
  {
   "cell_type": "markdown",
   "metadata": {},
   "source": [
    "By default, the project will have a ``Root`` group called *Workspace*. Any entity can be accessed by its name or unique identifier (`uid`):\n",
    "\n",
    "![Root](./images/Root.png)\n",
    "\n",
    "Users will rarely have to interect with the ``Root`` as it is mainly used to build the project tree. It is the only entity in the Workspace without a parent."
   ]
  },
  {
   "cell_type": "code",
   "execution_count": null,
   "metadata": {},
   "outputs": [],
   "source": [
    "root = workspace.get_entity('Workspace')[0]\n",
    "\n",
    "print(f\"My Root is named: '{root.name}' with uuid: {root.uid} and parent entity: {root.parent}\") "
   ]
  },
  {
   "cell_type": "markdown",
   "metadata": {},
   "source": [
    "Creating Entities\n",
    "----------------\n",
    "\n",
    "We can now add an object to the Workspace. Let's start with the simplest `Entity`: a `ContainerGroup`. `Groups` are effectively folders that contain other entities, such as objects (Points, Surface,...) or other groups.\n",
    "\n",
    "![Groups](./images/Groups.png)\n",
    "\n",
    "By default, the parent of the newly created `Entity` will be the `Root`. At creation, `\"myGroup\"` is written to the project ``geoh5`` file and visible in the Analyst tree.\n"
   ]
  },
  {
   "cell_type": "code",
   "execution_count": null,
   "metadata": {},
   "outputs": [],
   "source": [
    "from geoh5io.groups import ContainerGroup\n",
    "\n",
    "group = ContainerGroup.create(workspace, name='myGroup')\n",
    "\n",
    "print(f\"My group is named: '{group.name}' with parent entity: {group.parent}\") "
   ]
  },
  {
   "cell_type": "code",
   "execution_count": null,
   "metadata": {},
   "outputs": [],
   "source": [
    "from geoh5io.objects import Points\n",
    "from numpy import random\n",
    "\n",
    "# Generate a random cloud of points\n",
    "n_data = 12\n",
    "xyz = random.randn(n_data, 3)\n",
    "    \n",
    "points = Points.create(workspace, name=\"MyPoints\", vertices=xyz)\n",
    "points"
   ]
  },
  {
   "cell_type": "markdown",
   "metadata": {},
   "source": [
    "By default the new object is stored directly to the target ``geoh5`` file and added directly under the ``Root`` group."
   ]
  },
  {
   "cell_type": "code",
   "execution_count": null,
   "metadata": {},
   "outputs": [],
   "source": [
    "root.children"
   ]
  },
  {
   "cell_type": "markdown",
   "metadata": {},
   "source": []
  },
  {
   "cell_type": "code",
   "execution_count": null,
   "metadata": {},
   "outputs": [],
   "source": [
    "# Remove project from disk\n",
    "import os\n",
    "os.remove(\"assets/my_project.geoh5\")"
   ]
  }
 ],
 "metadata": {
  "kernelspec": {
   "display_name": "Python 3",
   "language": "python",
   "name": "python3"
  },
  "language_info": {
   "codemirror_mode": {
    "name": "ipython",
    "version": 3
   },
   "file_extension": ".py",
   "mimetype": "text/x-python",
   "name": "python",
   "nbconvert_exporter": "python",
   "pygments_lexer": "ipython3",
   "version": "3.7.4"
  }
 },
 "nbformat": 4,
 "nbformat_minor": 2
}
