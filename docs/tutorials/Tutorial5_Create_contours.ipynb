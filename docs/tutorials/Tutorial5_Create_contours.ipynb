{
 "cells": [
  {
   "cell_type": "markdown",
   "metadata": {},
   "source": [
    "# Tutorial 5: Create contours\n",
    "In this tutorial we demonstrate how to create contours from spatial data using [matplotlib](https://scikit-image.org/) contouring functionality. The contouring can be done on points, curves and grids. \n",
    "\n",
    "**Beware**: Only the X and Y coordinates are used to generate the contours. The result might not be satisfactory for complex 3D shapes.\n",
    "\n"
   ]
  },
  {
   "cell_type": "markdown",
   "metadata": {},
   "source": [
    "Select data and contours\n",
    "-------\n",
    "\n",
    "This widget lets the user define contour values and/or intervals.\n",
    "Examples:\n",
    " - *100, 200, 400* => Draws contours at discrete data values 100, 200 and 400 \n",
    " - *100:110* => Draws contours between values 100 to 110 for every 1 increment\n",
    " - *500:100:1000* => Draws contours between 500 to 1000 for every 100 increment\n",
    "\n",
    "Any combination of the above are also allowed e.g.:\n",
    "\n",
    "*100:500:2000, 160, 3000* => Contours between 100 to 2000 for every 500 increment, plus a contour at 160 and 3000\n",
    "\n",
    "**Optional: Assign Z from values** \n",
    "\n",
    "Contours will be exported with Z (elevation) based on value of contours. Otherwise, contours are linearly draped on the object vertices.\n"
   ]
  },
  {
   "cell_type": "code",
   "execution_count": 1,
   "metadata": {},
   "outputs": [
    {
     "ename": "ModuleNotFoundError",
     "evalue": "No module named 'geoh5io'",
     "output_type": "error",
     "traceback": [
      "\u001b[1;31m---------------------------------------------------------------------------\u001b[0m",
      "\u001b[1;31mModuleNotFoundError\u001b[0m                       Traceback (most recent call last)",
      "\u001b[1;32m<ipython-input-1-3527216d007b>\u001b[0m in \u001b[0;36m<module>\u001b[1;34m\u001b[0m\n\u001b[0;32m      1\u001b[0m \u001b[1;32mfrom\u001b[0m \u001b[0mshutil\u001b[0m \u001b[1;32mimport\u001b[0m \u001b[0mcopyfile\u001b[0m\u001b[1;33m\u001b[0m\u001b[1;33m\u001b[0m\u001b[0m\n\u001b[1;32m----> 2\u001b[1;33m \u001b[1;32mfrom\u001b[0m \u001b[0mfunctions\u001b[0m\u001b[1;33m.\u001b[0m\u001b[0mwidgets\u001b[0m \u001b[1;32mimport\u001b[0m \u001b[0mcontour_values_widget\u001b[0m\u001b[1;33m\u001b[0m\u001b[1;33m\u001b[0m\u001b[0m\n\u001b[0m\u001b[0;32m      3\u001b[0m \u001b[1;33m\u001b[0m\u001b[0m\n\u001b[0;32m      4\u001b[0m \u001b[0mmy_h5file\u001b[0m \u001b[1;33m=\u001b[0m \u001b[1;34m\"assets/MtDore_TMI.geoh5\"\u001b[0m\u001b[1;33m\u001b[0m\u001b[1;33m\u001b[0m\u001b[0m\n\u001b[0;32m      5\u001b[0m \u001b[1;33m\u001b[0m\u001b[0m\n",
      "\u001b[1;32m~\\Documents\\GIT\\geoh5io\\GeoH5io\\docs\\tutorials\\functions\\widgets.py\u001b[0m in \u001b[0;36m<module>\u001b[1;34m\u001b[0m\n\u001b[0;32m     15\u001b[0m \u001b[1;32mfrom\u001b[0m \u001b[0mscipy\u001b[0m\u001b[1;33m.\u001b[0m\u001b[0minterpolate\u001b[0m \u001b[1;32mimport\u001b[0m \u001b[0mLinearNDInterpolator\u001b[0m\u001b[1;33m\u001b[0m\u001b[1;33m\u001b[0m\u001b[0m\n\u001b[0;32m     16\u001b[0m \u001b[1;33m\u001b[0m\u001b[0m\n\u001b[1;32m---> 17\u001b[1;33m \u001b[1;32mfrom\u001b[0m \u001b[0mgeoh5io\u001b[0m\u001b[1;33m.\u001b[0m\u001b[0mworkspace\u001b[0m \u001b[1;32mimport\u001b[0m \u001b[0mWorkspace\u001b[0m\u001b[1;33m\u001b[0m\u001b[1;33m\u001b[0m\u001b[0m\n\u001b[0m\u001b[0;32m     18\u001b[0m \u001b[1;32mfrom\u001b[0m \u001b[0mgeoh5io\u001b[0m\u001b[1;33m.\u001b[0m\u001b[0mobjects\u001b[0m \u001b[1;32mimport\u001b[0m \u001b[0mGrid2D\u001b[0m\u001b[1;33m,\u001b[0m \u001b[0mCurve\u001b[0m\u001b[1;33m,\u001b[0m \u001b[0mPoints\u001b[0m\u001b[1;33m,\u001b[0m \u001b[0mSurface\u001b[0m\u001b[1;33m,\u001b[0m \u001b[0mBlockModel\u001b[0m\u001b[1;33m\u001b[0m\u001b[1;33m\u001b[0m\u001b[0m\n\u001b[0;32m     19\u001b[0m \u001b[1;32mfrom\u001b[0m \u001b[0mgeoh5io\u001b[0m\u001b[1;33m.\u001b[0m\u001b[0mgroups\u001b[0m \u001b[1;32mimport\u001b[0m \u001b[0mContainerGroup\u001b[0m\u001b[1;33m\u001b[0m\u001b[1;33m\u001b[0m\u001b[0m\n",
      "\u001b[1;31mModuleNotFoundError\u001b[0m: No module named 'geoh5io'"
     ]
    }
   ],
   "source": [
    "from shutil import copyfile\n",
    "from functions.widgets import contour_values_widget\n",
    "\n",
    "my_h5file = \"assets/MtDore_TMI.geoh5\"\n",
    "\n",
    "# Lets create a working copy\n",
    "new_file = my_h5file[:-6] + \"work.geoh5\"\n",
    "copyfile(my_h5file, new_file)\n",
    "\n",
    "# A simple app to generate contours, pre-set 'contours' value for demo\n",
    "contour_values_widget(new_file, contours=\"100:500:2000, 160, 3000\")"
   ]
  },
  {
   "cell_type": "markdown",
   "metadata": {},
   "source": [
    "Congratulation\n",
    "---------\n",
    "\n",
    "You have completed this tutorial. Feel free to try different parameters and export multiple curve objects to the GA project.\n",
    "\n",
    "You can also apply the same process to your own data by simply pointing to a different Geoscience Analyst project.\n",
    "\n",
    "Et voila!"
   ]
  }
 ],
 "metadata": {
  "kernelspec": {
   "display_name": "Python 3",
   "language": "python",
   "name": "python3"
  },
  "language_info": {
   "codemirror_mode": {
    "name": "ipython",
    "version": 3
   },
   "file_extension": ".py",
   "mimetype": "text/x-python",
   "name": "python",
   "nbconvert_exporter": "python",
   "pygments_lexer": "ipython3",
   "version": "3.7.4"
  }
 },
 "nbformat": 4,
 "nbformat_minor": 2
}
