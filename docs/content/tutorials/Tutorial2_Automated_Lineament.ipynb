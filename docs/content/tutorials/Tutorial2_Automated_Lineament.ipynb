{
 "cells": [
  {
   "cell_type": "markdown",
   "metadata": {},
   "source": [
    "# Tutorial 2: Automated Lineament Extraction\n",
    "In this tutorial we demosntrate how to extract lineament from gridded magnetic data in a semi-automated fashion. The goal is not to replace human interpretation, but rather to speed up the work by providing a \"first guess\" using machine vision algorithms provided by the `scikit-learn` package."
   ]
  },
  {
   "cell_type": "code",
   "execution_count": 1,
   "metadata": {},
   "outputs": [],
   "source": [
    "from shutil import copyfile\n",
    "import numpy as np\n",
    "from geoh5io.workspace import Workspace\n",
    "from geoh5io.objects import Grid2D, Curve"
   ]
  },
  {
   "cell_type": "markdown",
   "metadata": {},
   "source": [
    "Load pre-computed Filters\n",
    "-------\n",
    "\n",
    "For this example we have pre-computed the reduce-to-pole (RTP) magnetic data from Mount Dore, Australia.\n",
    "\n",
    "![Workspace](./images/Tutorial2_MtDore_Tilt.png)\n",
    "\n",
    "We first load the data from the provided geoh5 file."
   ]
  },
  {
   "cell_type": "code",
   "execution_count": 6,
   "metadata": {},
   "outputs": [
    {
     "name": "stdout",
     "output_type": "stream",
     "text": [
      "['TMI', 'TMI rtp filtered', 'Visual Parameters']\n"
     ]
    }
   ],
   "source": [
    "# Lets create a working copy\n",
    "copyfile(\"assets/MtDore_TMI.geoh5\", \"assets/MtDore_TMI_temp.geoh5\")\n",
    "\n",
    "# Load the project\n",
    "workspace = Workspace(\"assets/MtDore_TMI_temp.geoh5\")\n",
    "\n",
    "# Load the grid\n",
    "grid = workspace.get_entity(\"TMI\")[0]\n",
    "print(grid.get_data_list())"
   ]
  },
  {
   "cell_type": "markdown",
   "metadata": {},
   "source": [
    "# Extract spatial data\n",
    "--------------\n",
    "In order to estimate the position and orientation of magnetic contacts, we need to \n",
    "- Extract edges using the Canny algorithm from `skimage.feature`.\n",
    "- Detect lines using the Hough tranform from `skimage.transform`\n",
    "\n",
    "![Workspace](./images/Tutorial2_MtDore_HoughLine.png)\n",
    "\n"
   ]
  },
  {
   "cell_type": "code",
   "execution_count": 9,
   "metadata": {},
   "outputs": [],
   "source": [
    "from skimage.feature import canny\n",
    "from skimage.transform import probabilistic_hough_line\n",
    "\n",
    "X = grid.centroids[:, 0].reshape(grid.shape, order=\"F\")\n",
    "Y = grid.centroids[:, 1].reshape(grid.shape, order=\"F\")\n",
    "rtp = grid.get_data('TMI rtp filtered')[0].values.reshape(grid.shape, order=\"F\")\n",
    "\n",
    "# Parameters controling the edge detection \n",
    "edges = canny(rtp.T, 0.001, 0.01, 0.01)\n",
    "\n",
    "# Parameters controling the line detection\n",
    "lines = probabilistic_hough_line(edges, threshold=10, line_length=10,\n",
    "                                 line_gap=3)\n",
    "\n",
    "# Extract the line features\n",
    "xy = []\n",
    "cells = []\n",
    "count = 0\n",
    "for line in lines:\n",
    "    p0, p1 = line\n",
    "\n",
    "    xy.append(np.c_[X[p0[0], 0], Y[0, p0[1]] ,0])\n",
    "    xy.append(np.c_[X[p1[0], 0], Y[0, p1[1]], 0])\n",
    "    \n",
    "    cells.append(np.c_[count, count+1].astype(\"uint32\"))\n",
    "    \n",
    "    count += 2\n",
    "\n",
    "# Save the result to geoh5\n",
    "curve = Curve.create(\n",
    "    workspace,\n",
    "    name=\"HoughLines\",\n",
    "    vertices=np.vstack(xy),\n",
    "    cells=np.vstack(cells)\n",
    ")"
   ]
  },
  {
   "cell_type": "code",
   "execution_count": null,
   "metadata": {},
   "outputs": [],
   "source": []
  }
 ],
 "metadata": {
  "kernelspec": {
   "display_name": "Python 3",
   "language": "python",
   "name": "python3"
  },
  "language_info": {
   "codemirror_mode": {
    "name": "ipython",
    "version": 3
   },
   "file_extension": ".py",
   "mimetype": "text/x-python",
   "name": "python",
   "nbconvert_exporter": "python",
   "pygments_lexer": "ipython3",
   "version": "3.7.4"
  }
 },
 "nbformat": 4,
 "nbformat_minor": 2
}
