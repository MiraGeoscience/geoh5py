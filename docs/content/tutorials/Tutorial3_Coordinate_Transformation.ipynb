{
 "cells": [
  {
   "cell_type": "markdown",
   "metadata": {},
   "source": [
    "# Tutorial 3: Coordinate transformation with pyproj\n",
    "In this tutorial we demosntrate how to change the coordinate system of objects in Geoscience Analyst with the help of the [pyproj](http://pyproj4.github.io/pyproj/stable/). We will use this app to reproject surfaces representing the DO-18/27 kimberlite pipes, Northwest Territories."
   ]
  },
  {
   "cell_type": "code",
   "execution_count": null,
   "metadata": {},
   "outputs": [],
   "source": [
    "from shutil import copyfile\n",
    "from functions.widgets import coordinate_transformation"
   ]
  },
  {
   "cell_type": "markdown",
   "metadata": {},
   "source": [
    "Select and transform objects\n",
    "-------\n",
    "\n",
    "This simple app will let you select multiple objects to be reprojected using standard EPSG code.\n",
    "\n",
    "A quick online search should return your input and output EPSG code.\n",
    "\n",
    "For this example, we want to go from NAD27 to NAD83 UTM Zone 10:\n",
    "\n",
    "- `NAD83, UTM Zone 10 N` => `26910`\n",
    "- `NAD27, UTM Zone 10 N` => `26710`\n"
   ]
  },
  {
   "cell_type": "code",
   "execution_count": null,
   "metadata": {},
   "outputs": [],
   "source": [
    "my_h5file = r\"assets\\TKC_synthetic.geoh5\"\n",
    "\n",
    "# Lets create a working copy\n",
    "new_file = \"assets\\TKC_synthetic_workingFile.geoh5\"\n",
    "copyfile(my_h5file, new_file)\n",
    "\n",
    "# A simple app to select multiple objects and reproject\n",
    "selection = coordinate_transformation(\n",
    "    new_file, plot=True, \n",
    "    epsg_in=26910, epsg_out=26710, \n",
    "    object_names=[\"PK1\", \"PK3\"]\n",
    ")\n",
    "display(selection)"
   ]
  },
  {
   "cell_type": "markdown",
   "metadata": {},
   "source": [
    "Congratulation\n",
    "---------\n",
    "\n",
    "You have completed this tutorial. You now know how to transform coordinate systems."
   ]
  },
  {
   "cell_type": "code",
   "execution_count": null,
   "metadata": {},
   "outputs": [],
   "source": []
  }
 ],
 "metadata": {
  "kernelspec": {
   "display_name": "Python 3",
   "language": "python",
   "name": "python3"
  },
  "language_info": {
   "codemirror_mode": {
    "name": "ipython",
    "version": 3
   },
   "file_extension": ".py",
   "mimetype": "text/x-python",
   "name": "python",
   "nbconvert_exporter": "python",
   "pygments_lexer": "ipython3",
   "version": "3.7.4"
  }
 },
 "nbformat": 4,
 "nbformat_minor": 2
}
