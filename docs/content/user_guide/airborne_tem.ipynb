{
 "cells": [
  {
   "cell_type": "markdown",
   "id": "1f3d32ca",
   "metadata": {},
   "source": [
    "# Airborne Time-Domain\n",
    "\n",
    "This survey can be used to store airborne time-domain electromagnetic (ATEM) data defined by a fixed transmitter-receiver loop configuration. The survey is made up of two entities ([AirborneTEMTransmitters](api/geoh5py.objects.surveys.electromagnetics.rst#geoh5py.objects.surveys.electromagnetics.airborne_tem.AirborneTEMTransmitters) and [AirborneTEMReceivers](..api/geoh5py.objects.surveys.electromagnetics.rst#geoh5py.objects.surveys.electromagnetics.airborne_tem.AirborneTEMReceivers)) linked by their metadata.\n",
    "\n",
    "The following example shows how to generate an an airborne TEM survey with associated data programmatically.\n",
    "\n",
    "![mtSurvey](./images/mt_survey.png)"
   ]
  },
  {
   "cell_type": "code",
   "execution_count": 1,
   "id": "0b3d9a37",
   "metadata": {},
   "outputs": [],
   "source": [
    "import numpy as np\n",
    "from geoh5py.workspace import Workspace\n",
    "from geoh5py.objects import AirborneTEMReceivers, AirborneTEMTransmitters\n",
    "\n",
    "# Create a new project\n",
    "workspace = Workspace(\"my_project.geoh5\")\n",
    "\n",
    "# Define the pole locations\n",
    "n_stations = 9\n",
    "n_lines = 2\n",
    "x_loc, y_loc = np.meshgrid(np.linspace(0, 60, n_stations), np.linspace(-20, 20., n_lines))\n",
    "vertices = np.c_[x_loc.ravel(), y_loc.ravel(), np.zeros_like(x_loc).ravel()]\n",
    "\n",
    "# Assign a line ID to the poles (vertices)\n",
    "parts = np.kron(np.arange(n_lines), np.ones(n_stations)).astype('int')\n",
    "\n",
    "# Create the survey as a coincident loop system\n",
    "aem_receivers = AirborneTEMReceivers.create(workspace, vertices=vertices, parts=parts)\n",
    "aem_transmitters = AirborneTEMTransmitters.create(workspace, vertices=vertices, parts=parts)"
   ]
  },
  {
   "cell_type": "markdown",
   "id": "7c56c933",
   "metadata": {},
   "source": [
    "We have so far created two seperate entities, one for transmitter locations and another for the receivers. In order to finalize the survey, the association must be made between the two entities:"
   ]
  },
  {
   "cell_type": "code",
   "execution_count": 2,
   "id": "08e0ad7c",
   "metadata": {},
   "outputs": [],
   "source": [
    "aem_receivers.transmitters = aem_transmitters"
   ]
  },
  {
   "cell_type": "markdown",
   "id": "f00b7f13",
   "metadata": {},
   "source": [
    "or equivalently"
   ]
  },
  {
   "cell_type": "code",
   "execution_count": 3,
   "id": "b4cb73a6",
   "metadata": {},
   "outputs": [],
   "source": [
    "aem_transmitters.receivers = aem_receivers"
   ]
  },
  {
   "cell_type": "markdown",
   "id": "16d438f2",
   "metadata": {},
   "source": [
    "Only one of the two options above is needed. \n",
    "\n",
    "Once linked, the two entities will share changes applied to the metadata. For example, changing the `input_type` property on the transmitters yield:"
   ]
  },
  {
   "cell_type": "code",
   "execution_count": 4,
   "id": "0768b180",
   "metadata": {},
   "outputs": [
    {
     "name": "stdout",
     "output_type": "stream",
     "text": [
      "Tx and Rx\n"
     ]
    }
   ],
   "source": [
    "aem_transmitters.input_type = \"Tx and Rx\"\n",
    "print(aem_receivers.input_type)"
   ]
  },
  {
   "cell_type": "markdown",
   "id": "da3bbb03",
   "metadata": {},
   "source": [
    "## Metadata\n",
    "\n",
    "Along with the survey object itself, the metadata contains all the necessary information to define the geophysical experiment."
   ]
  },
  {
   "cell_type": "code",
   "execution_count": 5,
   "id": "53e7c752",
   "metadata": {},
   "outputs": [
    {
     "data": {
      "text/plain": [
       "{'EM Dataset': {'Channels': [],\n",
       "  'Input type': 'Tx and Rx',\n",
       "  'Property groups': [],\n",
       "  'Receivers': UUID('f3eeae9b-675b-434f-880e-76ebc6b424a3'),\n",
       "  'Survey type': 'Airborne TEM',\n",
       "  'Transmitters': UUID('a4a563d2-9462-4669-a1ec-c3867d8306bc'),\n",
       "  'Unit': 'Milliseconds (ms)',\n",
       "  'Yaw value': 0,\n",
       "  'Pitch value': 0,\n",
       "  'Roll value': 0,\n",
       "  'Loop radius': 1}}"
      ]
     },
     "execution_count": 5,
     "metadata": {},
     "output_type": "execute_result"
    }
   ],
   "source": [
    "aem_receivers.metadata"
   ]
  },
  {
   "cell_type": "markdown",
   "id": "5b5cb95d",
   "metadata": {},
   "source": [
    "### Channels\n",
    "\n",
    "List of time channels at which the data are provided."
   ]
  },
  {
   "cell_type": "code",
   "execution_count": 6,
   "id": "40d5dcb3",
   "metadata": {},
   "outputs": [],
   "source": [
    "aem_receivers.channels = np.logspace(-3, -2, 10) # Simple sweep from 1 to 10 ms"
   ]
  },
  {
   "cell_type": "markdown",
   "id": "582d731c",
   "metadata": {},
   "source": [
    "### Input type\n",
    "\n",
    "Label defining how the survey was created.\n",
    "\n",
    "- `Rx`: Survey defined from the `AirborneTEMReceivers` positions, with the`AirborneTEMTransmitters` added from offsets.\n",
    "- `Tx`: Survey defined from the `AirborneTEMTransmitters` position, with the`AirborneTEMReceivers` added from offsets.\n",
    "- `Tx and Rx`: Survey defined by both the `AirborneTEMTransmitters` and the`AirborneTEMReceivers` positions."
   ]
  },
  {
   "cell_type": "markdown",
   "id": "b8e88a95",
   "metadata": {},
   "source": [
    "### Property groups\n",
    "\n",
    "List of [PropertyGroup](../api/geoh5py.groups.rst#module-geoh5py.groups.property_group)s defining the various data components (e.g. `dBzdt`, `Bz`, ...). It is expected that each component contains data channels at all times and in the same order as defined in `Channels`.\n",
    "\n",
    "The class method [add_component_data](../api/geoh5py.objects.surveys.electromagnetics.rst#geoh5py.objects.surveys.electromagnetics.base.BaseEMSurvey.add_component_data) can help users add data from nested dictionaries. Below is an example using four components:"
   ]
  },
  {
   "cell_type": "code",
   "execution_count": 7,
   "id": "9f85ea40",
   "metadata": {},
   "outputs": [
    {
     "data": {
      "text/plain": [
       "[<geoh5py.groups.property_group.PropertyGroup at 0x1da4b739b48>]"
      ]
     },
     "execution_count": 7,
     "metadata": {},
     "output_type": "execute_result"
    }
   ],
   "source": [
    "# Create some simple data\n",
    "data_fun = lambda f: (f) * np.sin(np.pi * (x_loc * y_loc).ravel() / 200.)\n",
    "\n",
    "# Create a nested dictionary of time data.\n",
    "data = {\n",
    "    \"dBdt\" : {\n",
    "        f\"time[{tt}]\": {\"values\": data_fun(time)} for tt, time in enumerate(aem_receivers.channels)\n",
    "    }\n",
    "}\n",
    "    \n",
    "aem_receivers.add_component_data(data)"
   ]
  },
  {
   "cell_type": "markdown",
   "id": "c04de384",
   "metadata": {},
   "source": [
    "Metadata are also updated to reflect the addition of component data."
   ]
  },
  {
   "cell_type": "code",
   "execution_count": 8,
   "id": "446ba986",
   "metadata": {},
   "outputs": [
    {
     "data": {
      "text/plain": [
       "{'EM Dataset': {'Channels': [0.001,\n",
       "   0.001291549665014884,\n",
       "   0.0016681005372000592,\n",
       "   0.0021544346900318843,\n",
       "   0.0027825594022071257,\n",
       "   0.003593813663804626,\n",
       "   0.004641588833612777,\n",
       "   0.005994842503189409,\n",
       "   0.007742636826811269,\n",
       "   0.01],\n",
       "  'Input type': 'Tx and Rx',\n",
       "  'Property groups': ['dBdt'],\n",
       "  'Receivers': UUID('f3eeae9b-675b-434f-880e-76ebc6b424a3'),\n",
       "  'Survey type': 'Airborne TEM',\n",
       "  'Transmitters': UUID('a4a563d2-9462-4669-a1ec-c3867d8306bc'),\n",
       "  'Unit': 'Milliseconds (ms)',\n",
       "  'Yaw value': 0,\n",
       "  'Pitch value': 0,\n",
       "  'Roll value': 0,\n",
       "  'Loop radius': 1}}"
      ]
     },
     "execution_count": 8,
     "metadata": {},
     "output_type": "execute_result"
    }
   ],
   "source": [
    "aem_receivers.metadata"
   ]
  },
  {
   "cell_type": "markdown",
   "id": "7e149cce",
   "metadata": {},
   "source": [
    "### Receivers\n",
    "\n",
    "Generic label used for surveys to identify the receiver entity. References to itself in the case of `AirborneTEMReceivers`."
   ]
  },
  {
   "cell_type": "markdown",
   "id": "d3a11e9f",
   "metadata": {},
   "source": [
    "### Survey type\n",
    "\n",
    "Label identifier for `Airborne TEM` survey type."
   ]
  },
  {
   "cell_type": "markdown",
   "id": "1886119b",
   "metadata": {},
   "source": [
    "### Transmitters\n",
    "\n",
    "Generic label used for surveys to identify the transmitter entity. References to itself in the case of `AirborneTEMTransmitters`."
   ]
  },
  {
   "cell_type": "markdown",
   "id": "9afa2c63",
   "metadata": {},
   "source": [
    "### Unit\n",
    "\n",
    "Units for time sampling of the data: `Seconds (s)`, `Milliseconds (ms)`, `Microseconds (us)` or `Nanoseconds (ns)`."
   ]
  },
  {
   "cell_type": "markdown",
   "id": "8b5a6536",
   "metadata": {},
   "source": [
    "### Loop radius\n",
    "\n",
    "Specifies the transmitter loop radius."
   ]
  },
  {
   "cell_type": "markdown",
   "id": "34032e55",
   "metadata": {},
   "source": [
    "### Custom fields\n",
    "\n",
    "`Metadata` are stored in `geoh5` as a `json` structure allowing for custom data fields to be added to the survey: such as flight information, date/time, offsets, etc. Associated values can be of type `string`, `float` and `int`."
   ]
  },
  {
   "cell_type": "code",
   "execution_count": 9,
   "id": "065d4254",
   "metadata": {},
   "outputs": [
    {
     "data": {
      "text/plain": [
       "15.0"
      ]
     },
     "execution_count": 9,
     "metadata": {},
     "output_type": "execute_result"
    }
   ],
   "source": [
    "aem_receivers.yaw = 15.\n",
    "aem_receivers.metadata[\"EM Dataset\"]['Yaw value']"
   ]
  },
  {
   "cell_type": "markdown",
   "id": "4a2e071d",
   "metadata": {},
   "source": [
    "Aternatively, a `uuid.UUID` value can be used if the information is to be provided at every survey position. `Geoscience ANALYST` will automatically create a link referencing to the data entity under the project tree.\n",
    "\n",
    "For certain metadata, such as `yaw`, `pitch`, `roll`, the suffix `property` is used instead of `value`:"
   ]
  },
  {
   "cell_type": "code",
   "execution_count": 10,
   "id": "d5fc28e8",
   "metadata": {},
   "outputs": [
    {
     "data": {
      "text/plain": [
       "UUID('ae485382-6157-4f6f-8a05-e15839a08da0')"
      ]
     },
     "execution_count": 10,
     "metadata": {},
     "output_type": "execute_result"
    }
   ],
   "source": [
    "yaw_data = aem_receivers.add_data({\n",
    "    \"yaw angles\": {\"values\": np.random.randn(aem_receivers.n_vertices)}\n",
    "}) # Add random data for yaw angles\n",
    "aem_receivers.yaw = yaw_data.uid  # Assign to the yaw property\n",
    "aem_receivers.metadata[\"EM Dataset\"]['Yaw property']  # Metadata is updated and re-labeled."
   ]
  },
  {
   "cell_type": "code",
   "execution_count": 11,
   "id": "fb449a2b",
   "metadata": {},
   "outputs": [],
   "source": [
    "workspace.finalize()"
   ]
  }
 ],
 "metadata": {
  "kernelspec": {
   "display_name": "Python 3 (ipykernel)",
   "language": "python",
   "name": "python3"
  },
  "language_info": {
   "codemirror_mode": {
    "name": "ipython",
    "version": 3
   },
   "file_extension": ".py",
   "mimetype": "text/x-python",
   "name": "python",
   "nbconvert_exporter": "python",
   "pygments_lexer": "ipython3",
   "version": "3.7.12"
  }
 },
 "nbformat": 4,
 "nbformat_minor": 5
}
