{
 "cells": [
  {
   "cell_type": "markdown",
   "id": "e1759ec0",
   "metadata": {},
   "source": [
    "# Data\n",
    "\n",
    "The `geoh5` format allows storing data (values) on different parts of an ``Object``. The data types currently supported by `geoh5py` are\n",
    "\n",
    "- Float\n",
    "- Integer\n",
    "- Text\n",
    "- Colormap\n",
    "- Well log\n",
    "\n",
    "![data](./images/data.png)"
   ]
  },
  {
   "cell_type": "code",
   "execution_count": 57,
   "id": "a11a8527",
   "metadata": {},
   "outputs": [],
   "source": [
    "from geoh5py.workspace import Workspace\n",
    "import numpy as np\n",
    "\n",
    "# Re-use the previous workspace\n",
    "workspace = Workspace(\"my_project.geoh5\")\n",
    "\n",
    "# Get the curve from previous section\n",
    "curve = workspace.get_entity(\"Curve\")[0]"
   ]
  },
  {
   "cell_type": "markdown",
   "id": "d7cc0fa5",
   "metadata": {},
   "source": [
    "## Float\n",
    "\n",
    "Numerical `float` data can be attached to the various elements making up object. Data can be added to an `Object` entity using the `add_data` method."
   ]
  },
  {
   "cell_type": "code",
   "execution_count": 58,
   "id": "5e6d40ab",
   "metadata": {},
   "outputs": [
    {
     "data": {
      "text/plain": [
       "<geoh5py.data.float_data.FloatData at 0x1a33c1ac8b0>"
      ]
     },
     "execution_count": 58,
     "metadata": {},
     "output_type": "execute_result"
    }
   ],
   "source": [
    "curve.add_data({\n",
    "    \"my_cell_values\": {\n",
    "        \"association\":\"CELL\", \n",
    "        \"values\": np.random.randn(curve.n_cells)\n",
    "    }\n",
    "})"
   ]
  },
  {
   "cell_type": "markdown",
   "id": "bb2a12f5",
   "metadata": {},
   "source": [
    "The `association` can be one of:\n",
    "\n",
    "- OBJECT: Single element characterizing the parent object\n",
    "- VERTEX: Array of values associated with the parent object vertices\n",
    "- CELL: Array of values associated with the parent object cells \n",
    "\n",
    "The length and order of the array of values must be consistent with the corresponding element of `association`. If the `association` argument is omited, `geoh5py` will attempt to assign the data to the correct part based on the shape of the data values, either `object.n_values` or `object.n_cells`"
   ]
  },
  {
   "cell_type": "code",
   "execution_count": 59,
   "id": "04bf8d6b",
   "metadata": {},
   "outputs": [
    {
     "name": "stdout",
     "output_type": "stream",
     "text": [
      "['Period:0', 'Period:1', 'Period:2', 'Period:3', 'Period:4', 'Period:5', 'Period:6', 'Period:7']\n"
     ]
    }
   ],
   "source": [
    "# Add multiple data vectors on a single call\n",
    "data = {}\n",
    "for ii in range(8):\n",
    "    data[f\"Period:{ii}\"] = {\n",
    "        \"association\":\"VERTEX\", \n",
    "        \"values\": (ii+1) * np.cos(ii*curve.vertices[:, 0]*np.pi/curve.vertices[:, 0].max()/4.)\n",
    "    }\n",
    "\n",
    "data_list = curve.add_data(data)\n",
    "print([obj.name for obj in data_list])"
   ]
  },
  {
   "cell_type": "markdown",
   "id": "f5eb31a3",
   "metadata": {},
   "source": [
    "The newly created data is directly added to the project's `geoh5` file and available for visualization:\n",
    "\n",
    "![adddata](./images/adddata.png)"
   ]
  },
  {
   "cell_type": "markdown",
   "id": "20f821ad",
   "metadata": {},
   "source": [
    "## Integer"
   ]
  },
  {
   "cell_type": "markdown",
   "id": "5a3c56b5",
   "metadata": {},
   "source": [
    "## Text\n",
    "\n",
    "Text (string) data can only be associated to the object itself."
   ]
  },
  {
   "cell_type": "code",
   "execution_count": 60,
   "id": "6d6ec63e",
   "metadata": {},
   "outputs": [
    {
     "data": {
      "text/plain": [
       "<geoh5py.data.text_data.TextData at 0x1a33c1d6e50>"
      ]
     },
     "execution_count": 60,
     "metadata": {},
     "output_type": "execute_result"
    }
   ],
   "source": [
    "curve.add_data({\n",
    "    \"my_comment\": {\n",
    "        \"association\":\"OBJECT\", \n",
    "        \"values\": \"hello_world\"\n",
    "    }\n",
    "})"
   ]
  },
  {
   "cell_type": "markdown",
   "id": "605f1069",
   "metadata": {},
   "source": [
    "## Colormap\n",
    "\n",
    "The colormap data type can be used to store or customize the color palette used by Geoscience ANALYST."
   ]
  },
  {
   "cell_type": "code",
   "execution_count": 61,
   "id": "bc95ef5a",
   "metadata": {},
   "outputs": [],
   "source": [
    "from geoh5py.data.color_map import ColorMap\n",
    "\n",
    "# Create some data on a grid2D entity.\n",
    "grid = workspace.get_entity(\"Grid2D\")[0]\n",
    "\n",
    "# Add data\n",
    "radius = grid.add_data({\n",
    "    \"radial\": {\"values\": np.linalg.norm(grid.centroids, axis=1)}\n",
    "})"
   ]
  },
  {
   "cell_type": "markdown",
   "id": "bce5a346",
   "metadata": {},
   "source": [
    "![colormap](./images/default_colormap.png)"
   ]
  },
  {
   "cell_type": "code",
   "execution_count": 62,
   "id": "b6149534",
   "metadata": {},
   "outputs": [],
   "source": [
    "# Create a simple colormap that spans the data range\n",
    "nc = 10\n",
    "rgba = np.vstack([\n",
    "    np.linspace(radius.values.min(), radius.values.max(), nc), # Values\n",
    "    np.linspace(0, 255, nc), # Red\n",
    "    np.linspace(255, 0, nc), # Green\n",
    "    np.linspace(125, 15, nc), # Blue,\n",
    "    np.ones(nc) * 255, # Alpha,\n",
    "])"
   ]
  },
  {
   "cell_type": "markdown",
   "id": "59ad3115",
   "metadata": {},
   "source": [
    "We now have an array that contains a range of integer values for red, green, blue and alpha (RGBA) over the span of the data values. This array can be used to create a `ColorMap` class."
   ]
  },
  {
   "cell_type": "code",
   "execution_count": 63,
   "id": "5a57bcf8",
   "metadata": {},
   "outputs": [],
   "source": [
    "# Create a record array with labels\n",
    "cmap = np.asarray(\n",
    "    np.core.records.fromarrays(\n",
    "        rgba, \n",
    "        names=[\"Value\", \"Red\", \"Green\", \"Blue\", \"Alpha\"], \n",
    "        formats=[\"<f8\", \"u1\", \"u1\", \"u1\", \"u1\"]\n",
    "     )\n",
    ")\n",
    "\n",
    "# Assign the colormap to the data type\n",
    "radius.entity_type.color_map = {\n",
    "    \"values\": cmap, \"name\": \"Custom colormap\"\n",
    "}\n",
    "\n",
    "workspace.finalize() # Update the geoh5"
   ]
  },
  {
   "cell_type": "markdown",
   "id": "0dea02ef",
   "metadata": {},
   "source": [
    "![colormap](./images/custom_colormap.png)"
   ]
  },
  {
   "cell_type": "markdown",
   "id": "11528cec",
   "metadata": {},
   "source": [
    "## Well Data\n",
    "\n",
    "In the case of [Drillhole](#Drillhole) objects, data are added as either `interval log` or `point log` values.\n",
    "\n",
    "### Point Log Data\n",
    "\n",
    "Log data are used to represent measurements recorded at discrete depths along the well path. A `depth` attribute is required on creation. If the `Drillhole` object already holds point log data, `geoh5py` will attempt to match collocated depths within tolerance. By default, depth markers within 1 centimeter are merged (`collocation_distance=1e-2`).    "
   ]
  },
  {
   "cell_type": "code",
   "execution_count": 64,
   "id": "aef190c8",
   "metadata": {},
   "outputs": [
    {
     "data": {
      "text/plain": [
       "[<geoh5py.data.float_data.FloatData at 0x1a33c1d6a30>,\n",
       " <geoh5py.data.float_data.FloatData at 0x1a33c1d6670>]"
      ]
     },
     "execution_count": 64,
     "metadata": {},
     "output_type": "execute_result"
    }
   ],
   "source": [
    "well = workspace.get_entity(\"Drillhole\")[0]\n",
    "depths_A = np.arange(0, 50.) # First list of depth\n",
    "\n",
    "# Second list slightly offsetted on the first few depths\n",
    "depths_B = np.arange(47.1, 100) \n",
    "\n",
    "# Add both set of log data with 0.5 m tolerance\n",
    "well.add_data({\n",
    "    \"my_log_values\": {\n",
    "            \"depth\": depths_A,\n",
    "            \"values\": np.random.randn(depths_A.shape[0]),\n",
    "    },\n",
    "    \"log_wt_tolerance\": {\n",
    "            \"depth\": depths_B,\n",
    "            \"values\": np.random.randn(depths_B.shape[0]),\n",
    "            \"collocation_distance\": 0.5\n",
    "    }\n",
    "})"
   ]
  },
  {
   "cell_type": "markdown",
   "id": "4bc00e97",
   "metadata": {},
   "source": [
    "![DHlog](./images/DHlog.png){width=\"50%\"}"
   ]
  },
  {
   "cell_type": "markdown",
   "id": "1a9b8ca2",
   "metadata": {},
   "source": [
    "### Interval Log Data\n",
    "\n",
    "Interval log data are defined by constant values bounded by a start an end depth. A `from-to` attribute is expected on creation. Users can also control matching intervals by supplying a `tolerance` argument in meters (default `tolerance: 1e-3` meter)."
   ]
  },
  {
   "cell_type": "code",
   "execution_count": 65,
   "id": "c90717f0",
   "metadata": {},
   "outputs": [
    {
     "data": {
      "text/plain": [
       "<geoh5py.data.referenced_data.ReferencedData at 0x1a33c7c4640>"
      ]
     },
     "execution_count": 65,
     "metadata": {},
     "output_type": "execute_result"
    }
   ],
   "source": [
    "# Add some geology as interval data  \n",
    "well.add_data({\n",
    "    \"interval_values\": {\n",
    "        \"values\": [1, 2, 3], \n",
    "        \"from-to\": np.vstack([\n",
    "            [0.25, 25.5],\n",
    "            [30.1, 55.5],\n",
    "            [56.5, 80.2]\n",
    "        ]),\n",
    "        \"value_map\": {\n",
    "            1: \"Unit_A\",\n",
    "            2: \"Unit_B\",\n",
    "            3: \"Unit_C\"\n",
    "        },\n",
    "        \"type\": \"referenced\",\n",
    "    }\n",
    "})"
   ]
  },
  {
   "cell_type": "markdown",
   "id": "93a642c1",
   "metadata": {},
   "source": [
    "![DHinterval](./images/DHinterval.png){width=\"50%\"}"
   ]
  },
  {
   "cell_type": "markdown",
   "id": "24e2b67e",
   "metadata": {},
   "source": [
    "## Get data\n",
    "Just like any `Entity`, data can be retrieved from the `Workspace` using the `get_entity` method. For convenience, `Objects` also have a `get_data_list` and `get_data` method that focusses only on their respective children `Data`."
   ]
  },
  {
   "cell_type": "code",
   "execution_count": 66,
   "id": "f97b2f01",
   "metadata": {},
   "outputs": [
    {
     "name": "stdout",
     "output_type": "stream",
     "text": [
      "['Period:0', 'Period:0', 'Period:1', 'Period:1', 'Period:2', 'Period:2', 'Period:3', 'Period:3', 'Period:4', 'Period:4', 'Period:5', 'Period:5', 'Period:6', 'Period:6', 'Period:7', 'Period:7', 'Visual Parameters', 'my_cell_values', 'my_cell_values', 'my_comment', 'my_comment'] [<geoh5py.data.float_data.FloatData object at 0x000001A33C1A33A0>, <geoh5py.data.float_data.FloatData object at 0x000001A33BAB8D30>]\n"
     ]
    }
   ],
   "source": [
    "my_list = curve.get_data_list()\n",
    "print(my_list, curve.get_data(my_list[0]))"
   ]
  },
  {
   "cell_type": "markdown",
   "id": "222f1d4f",
   "metadata": {},
   "source": [
    "# Property Groups\n",
    "\n",
    "`Data` entities sharing the same parent `Object` and `association` can be linked within a `property_groups` and made available through profiling. This can be used to group data that would normally be stored as 2D array."
   ]
  },
  {
   "cell_type": "code",
   "execution_count": 67,
   "id": "c47f2f74",
   "metadata": {},
   "outputs": [
    {
     "data": {
      "text/plain": [
       "<geoh5py.groups.property_group.PropertyGroup at 0x1a33c7c4880>"
      ]
     },
     "execution_count": 67,
     "metadata": {},
     "output_type": "execute_result"
    }
   ],
   "source": [
    "# Add another VERTEX data and create a group with previous\n",
    "curve.add_data_to_group([obj.name for obj in data_list], \"my_trig_group\")"
   ]
  },
  {
   "cell_type": "markdown",
   "id": "8ae03637",
   "metadata": {},
   "source": [
    "![propgroups](./images/propgroups.png)"
   ]
  }
 ],
 "metadata": {
  "kernelspec": {
   "display_name": "Python 3 (ipykernel)",
   "language": "python",
   "name": "python3"
  },
  "language_info": {
   "codemirror_mode": {
    "name": "ipython",
    "version": 3
   },
   "file_extension": ".py",
   "mimetype": "text/x-python",
   "name": "python",
   "nbconvert_exporter": "python",
   "pygments_lexer": "ipython3",
   "version": "3.9.7"
  }
 },
 "nbformat": 4,
 "nbformat_minor": 5
}
