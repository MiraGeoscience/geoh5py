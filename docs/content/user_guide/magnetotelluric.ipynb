{
 "cells": [
  {
   "cell_type": "markdown",
   "id": "1f3d32ca",
   "metadata": {},
   "source": [
    "# Magnetotellurics\n",
    "\n",
    "This object can be used to store magnetotelluric (MT) data - a natural-source geophysical method widely used for deep crustal investigations. Electromagntic data are provided in the frequency-domain as point source measurments of either impedances or apparent resistity/phase.\n",
    "\n",
    "The following example shows how to generate an MT survey with associated data programmatically.\n",
    "\n",
    "![mtSurvey](./images/mt_survey.png)"
   ]
  },
  {
   "cell_type": "code",
   "execution_count": null,
   "id": "0b3d9a37",
   "metadata": {},
   "outputs": [],
   "source": [
    "import numpy as np\n",
    "from geoh5py.workspace import Workspace\n",
    "from geoh5py.objects.surveys.magnetotellurics import Magnetotellurics\n",
    "\n",
    "# Create a new project\n",
    "workspace = Workspace(\"my_project.geoh5\")\n",
    "\n",
    "# Define the receiver locations on 2 lines, 60 m apart\n",
    "x_loc, y_loc = np.meshgrid(np.linspace(-5, 5, 2), np.linspace(0., 20., 9))\n",
    "vertices = np.c_[x_loc.ravel(), y_loc.ravel(), np.zeros_like(x_loc).ravel()]\n",
    "\n",
    "# Create the survey from vertices\n",
    "mt_survey = Magnetotellurics.create(workspace, vertices=vertices)"
   ]
  },
  {
   "cell_type": "markdown",
   "id": "5b5cb95d",
   "metadata": {},
   "source": [
    "## Channels\n",
    "\n",
    "User must define the frequencies at which the data are provided."
   ]
  },
  {
   "cell_type": "code",
   "execution_count": null,
   "id": "40d5dcb3",
   "metadata": {},
   "outputs": [],
   "source": [
    "mt_survey.channels = [1., 10., 100.]"
   ]
  },
  {
   "cell_type": "markdown",
   "id": "b957219e",
   "metadata": {},
   "source": [
    "## Data\n",
    "\n",
    "The MT survey expects data to be grouped by component and in the same order as the input channels. The class method `add_frequency_data` streamlines the import of data from a nested dictionary. "
   ]
  },
  {
   "cell_type": "code",
   "execution_count": null,
   "id": "9f85ea40",
   "metadata": {},
   "outputs": [],
   "source": [
    "# Create some simple data\n",
    "data = {}\n",
    "d_vec = (x_loc * y_loc).ravel() / 200.\n",
    "for cc, component in enumerate([\"Zxx (real)\", \"Zxx (imaginary)\", \"Zxy (real)\", \"Zyy (real)\"]):\n",
    "    comp_dict = {}\n",
    "    for ff, freq in enumerate(mt_survey.channels):\n",
    "        comp_dict[freq] = {\"values\": (cc+1.) * np.sin(ff * np.pi * d_vec)}\n",
    "        \n",
    "    data[component] = comp_dict\n",
    "    \n",
    "mt_survey.add_frequency_data(data)"
   ]
  },
  {
   "cell_type": "markdown",
   "id": "4b0fd03c",
   "metadata": {},
   "source": [
    "**Note:** Not all components of the impedence tensor need to be provided. It is expected however that each component contains one data channels per frequency. The data channel supplied must be in the same order as defined by the `survey.channels`."
   ]
  },
  {
   "cell_type": "markdown",
   "id": "da3bbb03",
   "metadata": {},
   "source": [
    "## Metadata\n",
    "\n",
    "Along with the survey object itself, the metadata contains all the necessary information to define the geophysical experiment."
   ]
  },
  {
   "cell_type": "code",
   "execution_count": null,
   "id": "53e7c752",
   "metadata": {},
   "outputs": [],
   "source": [
    "mt_survey.metadata"
   ]
  }
 ],
 "metadata": {
  "kernelspec": {
   "display_name": "Python 3 (ipykernel)",
   "language": "python",
   "name": "python3"
  },
  "language_info": {
   "codemirror_mode": {
    "name": "ipython",
    "version": 3
   },
   "file_extension": ".py",
   "mimetype": "text/x-python",
   "name": "python",
   "nbconvert_exporter": "python",
   "pygments_lexer": "ipython3",
   "version": "3.9.7"
  }
 },
 "nbformat": 4,
 "nbformat_minor": 5
}
