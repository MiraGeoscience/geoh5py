{
 "cells": [
  {
   "cell_type": "markdown",
   "id": "1f3d32ca",
   "metadata": {},
   "source": [
    "# Magnetotellurics\n",
    "\n",
    "This object can be used to store magnetotelluric (MT) data - a natural-source geophysical method widely used for deep crustal investigations. Electromagnetic data are provided in the frequency-domain as point source measurments of either impedances or apparent resistity/phase.\n",
    "\n",
    "The following example shows how to generate an MT survey with associated data programmatically.\n",
    "\n",
    "![mtSurvey](./images/mt_survey.png)"
   ]
  },
  {
   "cell_type": "code",
   "execution_count": 1,
   "id": "0b3d9a37",
   "metadata": {},
   "outputs": [],
   "source": [
    "import numpy as np\n",
    "from geoh5py.workspace import Workspace\n",
    "from geoh5py.objects import MTReceivers\n",
    "\n",
    "# Create a new project\n",
    "workspace = Workspace(\"my_project.geoh5\")\n",
    "\n",
    "# Define the receiver locations on 2 lines, 60 m apart\n",
    "x_loc, y_loc = np.meshgrid(np.linspace(-5, 5, 2), np.linspace(0., 20., 9))\n",
    "vertices = np.c_[x_loc.ravel(), y_loc.ravel(), np.zeros_like(x_loc).ravel()]\n",
    "\n",
    "# Create the survey from vertices\n",
    "mt_survey = MTReceivers.create(workspace, vertices=vertices)"
   ]
  },
  {
   "cell_type": "markdown",
   "id": "da3bbb03",
   "metadata": {},
   "source": [
    "## Metadata\n",
    "\n",
    "Along with the survey object itself, the metadata contains all the necessary information to define the geophysical experiment."
   ]
  },
  {
   "cell_type": "code",
   "execution_count": 2,
   "id": "53e7c752",
   "metadata": {},
   "outputs": [
    {
     "data": {
      "text/plain": [
       "{'EM Dataset': {'Channels': [],\n",
       "  'Input type': 'Rx only',\n",
       "  'Property groups': [],\n",
       "  'Receivers': UUID('f0393c8d-1659-41c4-b515-8f0f04574095'),\n",
       "  'Survey type': 'Magnetotellurics',\n",
       "  'Unit': 'Hertz (Hz)'}}"
      ]
     },
     "execution_count": 2,
     "metadata": {},
     "output_type": "execute_result"
    }
   ],
   "source": [
    "mt_survey.metadata"
   ]
  },
  {
   "cell_type": "markdown",
   "id": "0b66ff19",
   "metadata": {},
   "source": [
    "### Input type\n",
    "\n",
    "Generic label used in the `geoh5` standard for all EM survey entities. Restricted to `Rx only` in the case of `MTReceivers` (natural sources method)."
   ]
  },
  {
   "cell_type": "code",
   "execution_count": null,
   "id": "4d8197d1",
   "metadata": {},
   "outputs": [],
   "source": []
  },
  {
   "cell_type": "markdown",
   "id": "5b5cb95d",
   "metadata": {},
   "source": [
    "### Channels\n",
    "\n",
    "User must define the frequencies at which the data are provided."
   ]
  },
  {
   "cell_type": "code",
   "execution_count": 4,
   "id": "40d5dcb3",
   "metadata": {},
   "outputs": [],
   "source": [
    "mt_survey.channels = [1., 10., 100.]"
   ]
  },
  {
   "cell_type": "markdown",
   "id": "b957219e",
   "metadata": {},
   "source": [
    "## Data\n",
    "\n",
    "The MT survey expects data to be grouped by component and in the same order as the input channels. The class method `add_component_data` can help add data and set the metadata from nested dictionaries. Below is an example using four "
   ]
  },
  {
   "cell_type": "code",
   "execution_count": 5,
   "id": "9f85ea40",
   "metadata": {},
   "outputs": [
    {
     "data": {
      "text/plain": [
       "[<geoh5py.groups.property_group.PropertyGroup at 0x200fc4a7308>,\n",
       " <geoh5py.groups.property_group.PropertyGroup at 0x200fcb2a448>,\n",
       " <geoh5py.groups.property_group.PropertyGroup at 0x200fb167cc8>,\n",
       " <geoh5py.groups.property_group.PropertyGroup at 0x200fb1c0a08>]"
      ]
     },
     "execution_count": 5,
     "metadata": {},
     "output_type": "execute_result"
    }
   ],
   "source": [
    "# Arbitrary data generator using sine functions\n",
    "data_fun = lambda c, f: (c+1.) * np.sin(f * np.pi * (x_loc * y_loc).ravel() / 200.)\n",
    "\n",
    "# Create a nested dictionary of component: frequency data.\n",
    "data = {\n",
    "    component : {\n",
    "        freq: {\"values\": data_fun(cc, ff)} for ff, freq in enumerate(mt_survey.channels)\n",
    "    } for cc, component in enumerate([\"Zxx (real)\", \"Zxx (imaginary)\", \"Zxy (real)\", \"Zyy (real)\"])\n",
    "}\n",
    "    \n",
    "mt_survey.add_component_data(data)"
   ]
  },
  {
   "cell_type": "markdown",
   "id": "4b0fd03c",
   "metadata": {},
   "source": [
    "**Note:** Not all components of the impedence tensor need to be provided. It is expected however that each component contains channels for all frequencies. The input data channels must be supplied in the same order as defined in the metadata under `survey.channels`."
   ]
  }
 ],
 "metadata": {
  "kernelspec": {
   "display_name": "Python 3 (ipykernel)",
   "language": "python",
   "name": "python3"
  },
  "language_info": {
   "codemirror_mode": {
    "name": "ipython",
    "version": 3
   },
   "file_extension": ".py",
   "mimetype": "text/x-python",
   "name": "python",
   "nbconvert_exporter": "python",
   "pygments_lexer": "ipython3",
   "version": "3.7.12"
  }
 },
 "nbformat": 4,
 "nbformat_minor": 5
}
