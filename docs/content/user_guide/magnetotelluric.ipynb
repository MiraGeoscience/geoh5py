{
 "cells": [
  {
   "cell_type": "markdown",
   "id": "1f3d32ca",
   "metadata": {},
   "source": [
    "# Magnetotellurics\n",
    "\n",
    "This object can be used to store magnetotelluric (MT) surveys - a natural-source geophysical method. Data are provided in the frequency-domain as point source measurements of either impedances or apparent resistity/phase.\n",
    "\n",
    "The following example shows how to generate an MT survey with associated data to `geoh5`.\n",
    "\n",
    "![mtSurvey](./images/mt_survey.png)"
   ]
  },
  {
   "cell_type": "code",
   "execution_count": 1,
   "id": "0b3d9a37",
   "metadata": {},
   "outputs": [],
   "source": [
    "import numpy as np\n",
    "from geoh5py.workspace import Workspace\n",
    "from geoh5py.objects import MTReceivers\n",
    "\n",
    "# Create a new project\n",
    "workspace = Workspace(\"my_project.geoh5\")\n",
    "\n",
    "# Define a synthetic survey with receivers on 2 lines, 60 m apart\n",
    "x_loc, y_loc = np.meshgrid(np.linspace(-5, 5, 2), np.linspace(0., 20., 9))\n",
    "vertices = np.c_[x_loc.ravel(), y_loc.ravel(), np.zeros_like(x_loc).ravel()]\n",
    "\n",
    "# Create the survey from vertices\n",
    "mt_survey = MTReceivers.create(workspace, vertices=vertices)"
   ]
  },
  {
   "cell_type": "markdown",
   "id": "78321bd7",
   "metadata": {},
   "source": [
    "Only receivers are needed to define the survey as MT uses the ambient electromagntic field of the Earth - no transmitters (source) required."
   ]
  },
  {
   "cell_type": "markdown",
   "id": "da3bbb03",
   "metadata": {},
   "source": [
    "## Metadata\n",
    "\n",
    "Along with the [MTReceivers](../api/geoh5py.objects.surveys.electromagnetics.rst#module-geoh5py.objects.surveys.electromagnetics.magnetotellurics), the metadata contains all the necessary information to define the geophysical experiment."
   ]
  },
  {
   "cell_type": "code",
   "execution_count": 2,
   "id": "53e7c752",
   "metadata": {},
   "outputs": [
    {
     "data": {
      "text/plain": [
       "{'EM Dataset': {'Channels': [],\n",
       "  'Input type': 'Rx only',\n",
       "  'Property groups': [],\n",
       "  'Receivers': UUID('4c16c511-c3ae-495c-872d-82683d7660ca'),\n",
       "  'Survey type': 'Magnetotellurics',\n",
       "  'Unit': 'Hertz (Hz)'}}"
      ]
     },
     "execution_count": 2,
     "metadata": {},
     "output_type": "execute_result"
    }
   ],
   "source": [
    "mt_survey.metadata"
   ]
  },
  {
   "cell_type": "markdown",
   "id": "5b5cb95d",
   "metadata": {},
   "source": [
    "### Channels\n",
    "\n",
    "List of frequencies at which the data are provided."
   ]
  },
  {
   "cell_type": "code",
   "execution_count": 3,
   "id": "40d5dcb3",
   "metadata": {},
   "outputs": [],
   "source": [
    "mt_survey.channels = [1., 10., 100.]"
   ]
  },
  {
   "cell_type": "markdown",
   "id": "582d731c",
   "metadata": {},
   "source": [
    "### Input type\n",
    "\n",
    "Generic label used in the `geoh5` standard for all EM survey entities. Restricted to `Rx only` in the case of natural sources methods."
   ]
  },
  {
   "cell_type": "markdown",
   "id": "f8dc8ac4",
   "metadata": {},
   "source": [
    "### Property groups\n",
    "\n",
    "List of [PropertyGroup](../api/geoh5py.groups.rst#module-geoh5py.groups.property_group)s defining the various data components (e.g. `Zxx (real)`, `Zxy (imag)`, ...). It is not required to supply all components of the impedence tensor, but it is expected that each component contains a list of data channels of length and in the same order as the `Channels` (one `Data` per frequency).\n",
    "\n",
    "The class method [add_components_data](../api/geoh5py.objects.surveys.electromagnetics.rst#geoh5py.objects.surveys.electromagnetics.base.BaseEMSurvey.add_component_data) can help users add data from nested dictionaries. Below is an example using four components:"
   ]
  },
  {
   "cell_type": "code",
   "execution_count": 4,
   "id": "9f85ea40",
   "metadata": {},
   "outputs": [
    {
     "data": {
      "text/plain": [
       "[<geoh5py.groups.property_group.PropertyGroup at 0x18428380908>,\n",
       " <geoh5py.groups.property_group.PropertyGroup at 0x18426a66ac8>,\n",
       " <geoh5py.groups.property_group.PropertyGroup at 0x18426a66dc8>,\n",
       " <geoh5py.groups.property_group.PropertyGroup at 0x18426a6cb08>]"
      ]
     },
     "execution_count": 4,
     "metadata": {},
     "output_type": "execute_result"
    }
   ],
   "source": [
    "# Arbitrary data generator using sine functions\n",
    "data_fun = lambda c, f: (c+1.) * np.sin(f * np.pi * (x_loc * y_loc).ravel() / 200.)\n",
    "\n",
    "# Create a nested dictionary of component and frequency data.\n",
    "data = {\n",
    "    component : {\n",
    "        freq: {\"values\": data_fun(cc, ff)} for ff, freq in enumerate(mt_survey.channels)\n",
    "    } for cc, component in enumerate([\"Zxx (real)\", \"Zxx (imaginary)\", \"Zxy (real)\", \"Zyy (real)\"])\n",
    "}\n",
    "    \n",
    "mt_survey.add_components_data(data)"
   ]
  },
  {
   "cell_type": "markdown",
   "id": "a61a6127",
   "metadata": {},
   "source": [
    "Metadata are updated immediately to reflect the addition of components:"
   ]
  },
  {
   "cell_type": "code",
   "execution_count": 5,
   "id": "5676737f",
   "metadata": {},
   "outputs": [
    {
     "data": {
      "text/plain": [
       "{'EM Dataset': {'Channels': [1.0, 10.0, 100.0],\n",
       "  'Input type': 'Rx only',\n",
       "  'Property groups': ['Zxx (real)',\n",
       "   'Zxx (imaginary)',\n",
       "   'Zxy (real)',\n",
       "   'Zyy (real)'],\n",
       "  'Receivers': UUID('4c16c511-c3ae-495c-872d-82683d7660ca'),\n",
       "  'Survey type': 'Magnetotellurics',\n",
       "  'Unit': 'Hertz (Hz)'}}"
      ]
     },
     "execution_count": 5,
     "metadata": {},
     "output_type": "execute_result"
    }
   ],
   "source": [
    "mt_survey.metadata"
   ]
  },
  {
   "cell_type": "markdown",
   "id": "97eb8bea",
   "metadata": {},
   "source": [
    "Data channels associated with each component can be accessed through the property group:"
   ]
  },
  {
   "cell_type": "code",
   "execution_count": null,
   "id": "e417fa90",
   "metadata": {},
   "outputs": [],
   "source": [
    "prop_group = mt_survey.find_or_create_property_group(name=mt_survey)"
   ]
  },
  {
   "cell_type": "markdown",
   "id": "3c0bb4f8",
   "metadata": {},
   "source": [
    "### Receivers\n",
    "\n",
    "Generic label used in the `geoh5` standard for EM survey to identify the receiver entity. Restricted to itself in the case of `MTReceivers`."
   ]
  },
  {
   "cell_type": "markdown",
   "id": "88fd596a",
   "metadata": {},
   "source": [
    "### Survey type\n",
    "\n",
    "Label identifier for `Magnetotellurics` survey type."
   ]
  },
  {
   "cell_type": "markdown",
   "id": "b4900ab6",
   "metadata": {},
   "source": [
    "### Unit\n",
    "\n",
    "Units for frequency sampling of the data: `Hertz (Hz)`, `KiloHertz (kHz)`, `MegaHertz (MHz)` or `Gigahertz (GHz)`."
   ]
  },
  {
   "cell_type": "code",
   "execution_count": null,
   "id": "e1551b1c",
   "metadata": {},
   "outputs": [],
   "source": []
  }
 ],
 "metadata": {
  "kernelspec": {
   "display_name": "Python 3 (ipykernel)",
   "language": "python",
   "name": "python3"
  },
  "language_info": {
   "codemirror_mode": {
    "name": "ipython",
    "version": 3
   },
   "file_extension": ".py",
   "mimetype": "text/x-python",
   "name": "python",
   "nbconvert_exporter": "python",
   "pygments_lexer": "ipython3",
   "version": "3.7.12"
  }
 },
 "nbformat": 4,
 "nbformat_minor": 5
}
