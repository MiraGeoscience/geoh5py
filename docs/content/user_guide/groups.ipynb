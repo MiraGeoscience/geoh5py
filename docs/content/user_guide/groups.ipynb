{
 "cells": [
  {
   "cell_type": "markdown",
   "metadata": {},
   "source": [
    "Groups\n",
    "=====\n",
    "\n",
    "`Groups` are effectively containers for other entities, such as ``Objects`` (Points, Curve, Surface, etc.) and other `Groups`. Groups are used to establish `parent-child` relationships and to store information about a collection of entities.  \n",
    "\n",
    "By default, the parent of any new `Entity` is the workspace ``RootGroup``.  It is the only entity in the ``Workspace`` without a parent. Users rarely have to interect with the ``Root`` group as it is mainly used to maintain the overall project hierarchy.\n",
    "\n",
    "![Root](./images/Root.png)\n",
    "\n"
   ]
  },
  {
   "cell_type": "markdown",
   "metadata": {},
   "source": [
    "ContainerGroup\n",
    "-----------------------\n",
    "\n",
    "A ``ContainerGroup`` can easily be added to the workspace and can be assigned a `name` and `description`."
   ]
  },
  {
   "cell_type": "code",
   "execution_count": null,
   "metadata": {},
   "outputs": [],
   "source": [
    "from geoh5py.groups import ContainerGroup\n",
    "from geoh5py.workspace import Workspace\n",
    "\n",
    "# Create a blank project\n",
    "workspace = Workspace(\"my_project.geoh5\")\n",
    "\n",
    "# Add a group\n",
    "group = ContainerGroup.create(workspace, name='myGroup')"
   ]
  },
  {
   "cell_type": "markdown",
   "metadata": {},
   "source": [
    "At creation, `\"myGroup\"` is written to the project ``geoh5`` file and visible in the Analyst project tree.\n",
    "\n",
    "![Groups](./images/Groups.png)\n",
    "\n",
    "Any entity can be accessed by its `name` or `uid` (unique identifier):"
   ]
  },
  {
   "cell_type": "code",
   "execution_count": null,
   "metadata": {},
   "outputs": [],
   "source": [
    "workspace.get_entity(\"myGroup\")[0] == workspace.get_entity(group.uid)[0]"
   ]
  }
 ],
 "metadata": {
  "kernelspec": {
   "display_name": "Python 3",
   "language": "python",
   "name": "python3"
  },
  "language_info": {
   "codemirror_mode": {
    "name": "ipython",
    "version": 3
   },
   "file_extension": ".py",
   "mimetype": "text/x-python",
   "name": "python",
   "nbconvert_exporter": "python",
   "pygments_lexer": "ipython3",
   "version": "3.7.4"
  }
 },
 "nbformat": 4,
 "nbformat_minor": 2
}
