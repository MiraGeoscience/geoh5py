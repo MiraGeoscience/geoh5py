{
 "cells": [
  {
   "cell_type": "markdown",
   "id": "58b14374",
   "metadata": {},
   "source": [
    "## Surveys"
   ]
  },
  {
   "cell_type": "markdown",
   "id": "402b7b7e",
   "metadata": {},
   "source": [
    "### Direct Current and Induced Polarization (DC/IP)\n",
    "\n",
    "This object is meant to handle direct-current resistivity surveys. The survey object is made up of two curve entities defining the transmitter (current) and receiver (potential) electrodes. The following example shows how to generate a survey from scratch.\n",
    "\n",
    "![dcip_survey](./images/dcip_survey.png){width=\"50%\"}\n",
    "\n",
    "#### Current Electrode (sources)\n",
    "\n",
    "The `CurrentElectrode` entity defines the A-B dipole pairs used to inject current into the ground. It is a sub-class of the `Curve` object, defined by vertices (poles) and cells (dipole segments). Here we generate four (4) parallel EW lines with eight dipoles per line."
   ]
  },
  {
   "cell_type": "code",
   "execution_count": null,
   "id": "5ba512d2",
   "metadata": {},
   "outputs": [],
   "source": [
    "import numpy as np\n",
    "import uuid\n",
    "from geoh5py.workspace import Workspace\n",
    "from geoh5py.objects import CurrentElectrode, PotentialElectrode\n",
    "\n",
    "# Create a new project\n",
    "workspace = Workspace(\"my_project.geoh5\")\n",
    "\n",
    "# Define the pole locations\n",
    "n_poles = 9\n",
    "n_lines = 2\n",
    "x_loc, y_loc = np.meshgrid(np.linspace(0, 60, n_poles), np.linspace(-20, 20., n_lines))\n",
    "vertices = np.c_[x_loc.ravel(), y_loc.ravel(), np.zeros_like(x_loc).ravel()]\n",
    "\n",
    "# Assign a line ID to the poles (vertices)\n",
    "parts = np.kron(np.arange(n_lines), np.ones(n_poles)).astype('int')\n",
    "\n",
    "# Create the CurrentElectrode object\n",
    "currents = CurrentElectrode.create(workspace, vertices=vertices, parts=parts)"
   ]
  },
  {
   "cell_type": "markdown",
   "id": "83d7cfed",
   "metadata": {},
   "source": [
    "![current_electrodes](./images/current_electrodes.png)\n",
    "\n",
    "At this stage the `CurrentElectrode` object has segments (`cells`) connecting all poles in series along line. \n",
    "\n",
    "#### AB Cell ID\n",
    "A key element of the DCIP survey objects is the `ab_cell_id` property. This `ReferenceData` contains the map referencing each cell of the `CurrentElectrode` object to a unique A-B source identifier with name.\n",
    "\n",
    "<code>\n",
    "currents.ab_cell_id.value_map.map = {   \n",
    "    0: \"Unknown\",\n",
    "    1: \"AB_100\",\n",
    "    2: \"AB_200\",\n",
    "    ...\n",
    "}\n",
    "\n",
    "The utility function `add_default_ab_cell_id` can help generate this map with a simple name string incrementor."
   ]
  },
  {
   "cell_type": "code",
   "execution_count": null,
   "id": "26353f6a",
   "metadata": {},
   "outputs": [],
   "source": [
    "currents.add_default_ab_cell_id()\n",
    "print(currents.ab_cell_id.values)\n",
    "print(currents.ab_cell_id.value_map.map)"
   ]
  },
  {
   "cell_type": "markdown",
   "id": "6beb6d85",
   "metadata": {},
   "source": [
    "Users may wish to alter the `value_map` names to carry forward specific survey information.\n",
    "\n",
    "**Note:** The first entry `{0:Unknown}` is a reserved field used by Geoscience ANALYST to flag unknown data entries.  "
   ]
  },
  {
   "cell_type": "markdown",
   "id": "393590b6",
   "metadata": {},
   "source": [
    "![ab_cell_id](./images/ab_cell_id.png)\n",
    "\n",
    "In this specific case, every `cell` on the curve corresponds to a unique dipole source current. \n",
    "For more complex survey configurations, users can edit the `cell` property in order to define different combinations of connections between poles."
   ]
  },
  {
   "cell_type": "markdown",
   "id": "51e1858e",
   "metadata": {},
   "source": [
    "#### Potential Electrode (receivers)\n",
    "\n",
    "The `PotentialElectrode` object defines the M-N dipole pairs used to measure the electric potential (receivers). Just like the `CurrentElectrode`, it is a sub-class of the `Curve` object defined by vertices (poles) and cells (dipoles). \n",
    "\n",
    "Although poles could be set independently on the `CurrentElectrode` and `PotentialElectrode` objects, here we re-uses the same locations for simplicity:"
   ]
  },
  {
   "cell_type": "code",
   "execution_count": null,
   "id": "700f6421",
   "metadata": {},
   "outputs": [],
   "source": [
    "potentials = PotentialElectrode.create(workspace, vertices=vertices)"
   ]
  },
  {
   "cell_type": "markdown",
   "id": "6781ae65",
   "metadata": {},
   "source": [
    "The link between the sources `CurrentElectrode` and the receivers `PotentialElectrode` is established on creation with the `current_electrodes` argument. \n",
    "\n",
    "The same can also be done after instantiation as"
   ]
  },
  {
   "cell_type": "code",
   "execution_count": null,
   "id": "a972119c",
   "metadata": {},
   "outputs": [],
   "source": [
    "potentials.current_electrodes = currents"
   ]
  },
  {
   "cell_type": "markdown",
   "id": "0bb9c9ad",
   "metadata": {},
   "source": [
    "or equivalently"
   ]
  },
  {
   "cell_type": "code",
   "execution_count": null,
   "id": "79807796",
   "metadata": {},
   "outputs": [],
   "source": [
    "currents.potential_electrodes = potentials"
   ]
  },
  {
   "cell_type": "markdown",
   "id": "0b89803d",
   "metadata": {},
   "source": [
    "In all the above cases, the link between the two objects gets encoded in their respective `metadata`."
   ]
  },
  {
   "cell_type": "code",
   "execution_count": null,
   "id": "32b76d49",
   "metadata": {},
   "outputs": [],
   "source": [
    "print(potentials.metadata == currents.metadata)\n",
    "print(currents.metadata)"
   ]
  },
  {
   "cell_type": "markdown",
   "id": "b03425ac",
   "metadata": {},
   "source": [
    "Next, we must define the receiver dipoles. The following routine generates a maximum of six (6) receivers dipoles per injection currents along line."
   ]
  },
  {
   "cell_type": "code",
   "execution_count": null,
   "id": "cc5bdda2",
   "metadata": {},
   "outputs": [],
   "source": [
    "N = 6\n",
    "dipoles = []\n",
    "current_id = []\n",
    "\n",
    "for val in currents.ab_cell_id.values: # For each source dipole\n",
    "    cell_id = int(currents.ab_map[val]) - 1 # Python 0 indexing\n",
    "    line = currents.parts[currents.cells[cell_id, 0]]\n",
    "    for m_n in range(N):\n",
    "        dipole_ids = (currents.cells[cell_id, :] + 2 + m_n).astype(\"uint32\") # Skip two poles\n",
    "\n",
    "        # Shorten the array as we get to the end of the line\n",
    "        if (\n",
    "            any(dipole_ids > (potentials.n_vertices - 1)) \n",
    "            or any(currents.parts[dipole_ids] != line)\n",
    "        ):\n",
    "            continue\n",
    "            \n",
    "        dipoles += [dipole_ids] # Save the receiver id\n",
    "        current_id += [val] # Save the source id\n",
    "\n",
    "potentials.cells = np.vstack(dipoles)"
   ]
  },
  {
   "cell_type": "markdown",
   "id": "89c92aea",
   "metadata": {},
   "source": [
    "Finally, users need to create an association between each receiver dipole (M-N) to a dipole current (A-B). The mapping is done through the `ab_cell_id` property of the `PotentialElectrode`. An integer (ID) value must be assigned to each cell, corresponding to the [AB Cell ID](#AB_Cell_ID) pairs stored on the associated `CurrentElectrode` object. "
   ]
  },
  {
   "cell_type": "code",
   "execution_count": null,
   "id": "c7604544",
   "metadata": {},
   "outputs": [],
   "source": [
    "potentials.ab_cell_id = np.asarray(current_id).astype('int32')"
   ]
  },
  {
   "cell_type": "markdown",
   "id": "c00ca80d",
   "metadata": {},
   "source": [
    "![potential_electrodes](./images/potential_electrodes.png)\n",
    "\n",
    "Note: The `ab_cell_id` property of the `CurrentElectrode` and `PotentialElectrode` are two different `ReferenceData` entities:"
   ]
  },
  {
   "cell_type": "code",
   "execution_count": null,
   "id": "4c65be80",
   "metadata": {},
   "outputs": [],
   "source": [
    "print(potentials.ab_cell_id == currents.ab_cell_id) "
   ]
  },
  {
   "cell_type": "markdown",
   "id": "867ff902",
   "metadata": {},
   "source": [
    "but share the same `DataType` that holds the map of unique source dipoles."
   ]
  },
  {
   "cell_type": "code",
   "execution_count": null,
   "id": "b3b41aec",
   "metadata": {},
   "outputs": [],
   "source": [
    "print(potentials.ab_cell_id.entity_type == currents.ab_cell_id.entity_type) "
   ]
  },
  {
   "cell_type": "markdown",
   "id": "07dc2ab5",
   "metadata": {},
   "source": [
    "This link between `DataType` allows users to query the data by dipole sources and display the values as pseudo-section in Geoscience ANALYST.\n",
    "\n",
    "![dcip_survey](./images/dcip_survey.png)"
   ]
  }
 ],
 "metadata": {
  "kernelspec": {
   "display_name": "Python 3",
   "language": "python",
   "name": "python3"
  },
  "language_info": {
   "codemirror_mode": {
    "name": "ipython",
    "version": 3
   },
   "file_extension": ".py",
   "mimetype": "text/x-python",
   "name": "python",
   "nbconvert_exporter": "python",
   "pygments_lexer": "ipython3",
   "version": "3.8.5"
  }
 },
 "nbformat": 4,
 "nbformat_minor": 5
}
