{
 "cells": [
  {
   "cell_type": "markdown",
   "id": "58b14374",
   "metadata": {},
   "source": [
    "## Surveys"
   ]
  },
  {
   "cell_type": "markdown",
   "id": "b1c96680",
   "metadata": {},
   "source": [
    "### Airborne Magnetics"
   ]
  },
  {
   "cell_type": "markdown",
   "id": "402b7b7e",
   "metadata": {},
   "source": [
    "### Direct Current and Induced Polarization (DC/IP)\n",
    "\n",
    "#### Current Electrode\n",
    "\n",
    "#### Potential Electrode"
   ]
  },
  {
   "cell_type": "code",
   "execution_count": 1,
   "id": "5ba512d2",
   "metadata": {},
   "outputs": [],
   "source": [
    "import numpy as np\n",
    "import uuid\n",
    "from geoh5py.workspace import Workspace\n",
    "from geoh5py.objects import CurrentElectrode, PotentialElectrode\n",
    "\n",
    "# Create a new project\n",
    "workspace = Workspace(\"my_project.geoh5\")\n",
    "\n",
    "# Create a grid of points\n",
    "y, x = np.meshgrid(np.arange(-250, 250, 100), np.arange(0, 100, 10))\n",
    "z = np.ones_like(x) * 10.\n",
    "\n",
    "source = CurrentElectrode.create(workspace, vertices=np.c_[x.flatten(), y.flatten(), z.flatten()])\n",
    "receivers = PotentialElectrode.create(workspace, vertices=np.c_[x.flatten(), y.flatten(), z.flatten()])"
   ]
  },
  {
   "cell_type": "code",
   "execution_count": 9,
   "id": "750dc93d",
   "metadata": {},
   "outputs": [
    {
     "data": {
      "text/plain": [
       "UUID('8581988d-5345-4c3f-9b96-769dd2c513de')"
      ]
     },
     "execution_count": 9,
     "metadata": {},
     "output_type": "execute_result"
    }
   ],
   "source": [
    "uuid.uuid4()\n"
   ]
  },
  {
   "cell_type": "code",
   "execution_count": 20,
   "id": "5720ab88",
   "metadata": {},
   "outputs": [
    {
     "data": {
      "text/plain": [
       "array([1., 1., 1., 1.])"
      ]
     },
     "execution_count": 20,
     "metadata": {},
     "output_type": "execute_result"
    }
   ],
   "source": [
    "aa = np.r_[[1,2,3,4,1,2,3,5,1,2,4,7]]\n",
    "vec = aa.reshape((-1, 3), order='F')\n",
    "amp = np.linalg.norm(vec, axis=1)\n",
    "vec = vec / amp[:, None]\n",
    "\n",
    "np.linalg.norm(vec, axis=1)\n",
    "\n",
    "\n"
   ]
  },
  {
   "cell_type": "code",
   "execution_count": 22,
   "id": "38285448",
   "metadata": {},
   "outputs": [
    {
     "data": {
      "text/plain": [
       "{UUID('5e933caf-a8aa-4cc9-82d7-686a21551822'): 'CurrentElectrode',\n",
       " UUID('cf6be52b-8f58-47de-8ba6-4722f3917fb7'): 'PotentialElectrode'}"
      ]
     },
     "execution_count": 22,
     "metadata": {},
     "output_type": "execute_result"
    }
   ],
   "source": [
    "workspace.list_objects_name\n",
    "\n"
   ]
  },
  {
   "cell_type": "code",
   "execution_count": null,
   "id": "b82abe56",
   "metadata": {},
   "outputs": [],
   "source": []
  }
 ],
 "metadata": {
  "kernelspec": {
   "display_name": "Python 3",
   "language": "python",
   "name": "python3"
  },
  "language_info": {
   "codemirror_mode": {
    "name": "ipython",
    "version": 3
   },
   "file_extension": ".py",
   "mimetype": "text/x-python",
   "name": "python",
   "nbconvert_exporter": "python",
   "pygments_lexer": "ipython3",
   "version": "3.8.5"
  }
 },
 "nbformat": 4,
 "nbformat_minor": 5
}
