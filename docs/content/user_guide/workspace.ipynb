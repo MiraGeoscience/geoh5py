{
 "cells": [
  {
   "cell_type": "markdown",
   "metadata": {},
   "source": [
    "Workspace\n",
    "=========\n",
    "\n",
    "The core element of a project is the ``Workspace``. A project Workspace holds core information about the author, version and all entities stored in the `geoh5` file. It also knows how to create the core structure needed by [Geoscience ANALYST](https://mirageoscience.com/mining-industry-software/geoscience-analyst/) for visualization.\n",
    "\n",
    "![workspace](./images/workspace.png)\n"
   ]
  },
  {
   "cell_type": "markdown",
   "metadata": {},
   "source": [
    "## Open and close\n",
    "\n",
    "You can either open an existing project or create a new project by simply entering the desired file name."
   ]
  },
  {
   "cell_type": "code",
   "execution_count": null,
   "metadata": {},
   "outputs": [],
   "source": [
    "from geoh5py.workspace import Workspace\n",
    "\n",
    "# Create a new project\n",
    "workspace = Workspace(\"my_project.geoh5\")"
   ]
  },
  {
   "cell_type": "markdown",
   "metadata": {},
   "source": [
    "Et voila!\n",
    "\n",
    "![blankworkspace](./images/blankworkspace.png){width=\"50%\"}"
   ]
  },
  {
   "cell_type": "markdown",
   "metadata": {},
   "source": [
    "By default, the `*.geoh5` file is accessed in \"read-write\" mode. In the eventuality that the file is already used by Geoscience ANALYST, the mode gets changed to \"read-only\". This prevents users from modifying the file while used in an active session, but still allows them to extract data from the workspace. The same restriction does not apply to multiple python processes, as permitted by the `Single Writer Multiple Reader (SWMR)` feature of HDF5."
   ]
  },
  {
   "cell_type": "code",
   "execution_count": null,
   "metadata": {},
   "outputs": [],
   "source": [
    "print(workspace.geoh5)"
   ]
  },
  {
   "cell_type": "markdown",
   "metadata": {},
   "source": [
    "After completing the read/write process, the workspace must be closed in order to release the file. Geoscience ANALYST does not allow reading on an opened file."
   ]
  },
  {
   "cell_type": "code",
   "execution_count": null,
   "metadata": {},
   "outputs": [],
   "source": [
    "workspace.close()\n",
    "\n",
    "print(workspace._geoh5)"
   ]
  },
  {
   "cell_type": "markdown",
   "metadata": {},
   "source": [
    "## Context manager\n",
    "\n",
    "Likewise, a workspace can be accessed via a context manager which will handle closing the file at the of a process."
   ]
  },
  {
   "cell_type": "code",
   "execution_count": null,
   "metadata": {},
   "outputs": [],
   "source": [
    "with Workspace(\"my_project.geoh5\") as workspace:\n",
    "    print(workspace.geoh5)\n",
    "    \n",
    "print(workspace._geoh5)"
   ]
  }
 ],
 "metadata": {
  "kernelspec": {
   "display_name": "Python 3 (ipykernel)",
   "language": "python",
   "name": "python3"
  },
  "language_info": {
   "codemirror_mode": {
    "name": "ipython",
    "version": 3
   },
   "file_extension": ".py",
   "mimetype": "text/x-python",
   "name": "python",
   "nbconvert_exporter": "python",
   "pygments_lexer": "ipython3",
   "version": "3.9.12"
  }
 },
 "nbformat": 4,
 "nbformat_minor": 2
}
