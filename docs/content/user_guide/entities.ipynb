{
 "cells": [
  {
   "cell_type": "markdown",
   "metadata": {},
   "source": [
    "# Entities\n",
    "\n",
    "This section introduces the different entities that can be created and stored in the `geoh5` file format.\n",
    "\n",
    "![entities](./images/entities.png)"
   ]
  },
  {
   "cell_type": "markdown",
   "metadata": {},
   "source": [
    "## Groups\n",
    "\n",
    "`Groups` are effectively containers for other entities, such as ``Objects`` (Points, Curve, Surface, etc.) and other `Groups`. Groups are used to establish `parent-child` relationships and to store information about a collection of entities.  \n",
    "\n",
    "### RootGroup\n",
    "By default, the parent of any new `Entity` is the workspace ``RootGroup``.  It is the only entity in the ``Workspace`` without a parent. Users rarely have to interect with the ``Root`` group as it is mainly used to maintain the overall project hierarchy.\n",
    "\n",
    "![Root](./images/root.png)"
   ]
  },
  {
   "cell_type": "markdown",
   "metadata": {},
   "source": [
    "### ContainerGroup\n",
    "\n",
    "\n",
    "A ``ContainerGroup`` can easily be added to the workspace and can be assigned a `name` and `description`."
   ]
  },
  {
   "cell_type": "code",
   "execution_count": 13,
   "metadata": {},
   "outputs": [],
   "source": [
    "from geoh5py.groups import ContainerGroup\n",
    "from geoh5py.workspace import Workspace\n",
    "\n",
    "# Create a blank project\n",
    "workspace = Workspace(\"my_project.geoh5\")\n",
    "\n",
    "# Add a group\n",
    "group = ContainerGroup.create(workspace, name='myGroup')"
   ]
  },
  {
   "cell_type": "markdown",
   "metadata": {},
   "source": [
    "At creation, `\"myGroup\"` is written to the project ``geoh5`` file and visible in the Analyst project tree.\n",
    "\n",
    "![Groups](./images/groups.png)\n",
    "\n",
    "Any entity can be accessed by its `name` or `uid` (unique identifier):"
   ]
  },
  {
   "cell_type": "code",
   "execution_count": 14,
   "metadata": {},
   "outputs": [
    {
     "name": "stdout",
     "output_type": "stream",
     "text": [
      "a659ac42-30d4-4161-8e0e-4748516c8227\n",
      "True\n"
     ]
    }
   ],
   "source": [
    "print(group.uid)\n",
    "print(workspace.get_entity(\"myGroup\")[0] == workspace.get_entity(group.uid)[0])"
   ]
  },
  {
   "cell_type": "markdown",
   "metadata": {},
   "source": [
    "## Objects\n",
    "\n",
    "The `geoh5` format allows to store a wide variety of ``Object`` entities that can be displayed in 3D. \n",
    "This section describes the collection of ``Objects`` entities currently supported by `geoh5py`.\n",
    "\n",
    "![Gobjects](./images/objects.png)"
   ]
  },
  {
   "cell_type": "markdown",
   "metadata": {},
   "source": [
    "### Points\n",
    "\n",
    "The ``Points`` object consists of a list of `vertices` that define the location of ponctual data in 3D space. As for all other `Objects`, it can be created from an array of 3D coordinates and added to any group as follow:"
   ]
  },
  {
   "cell_type": "code",
   "execution_count": 15,
   "metadata": {},
   "outputs": [],
   "source": [
    "from geoh5py.workspace import Workspace\n",
    "from geoh5py.objects import Points\n",
    "import numpy as np\n",
    "\n",
    "# Create a blank project\n",
    "workspace = Workspace(\"my_project.geoh5\")\n",
    "\n",
    "# Generate a numpy array of xyz locations\n",
    "n = 100\n",
    "radius, theta = np.arange(n), np.linspace(0, np.pi*8, n)\n",
    "\n",
    "x, y = radius * np.cos(theta), radius * np.sin(theta)\n",
    "z = (x**2. + y**2.)**0.5\n",
    "xyz = np.c_[x.ravel(), y.ravel(), z.ravel()] # Form a 2D array\n",
    "\n",
    "# Create the Point object\n",
    "points = Points.create(\n",
    "    workspace,       # The target Workspace\n",
    "    vertices=xyz     # Set vertices\n",
    ")"
   ]
  },
  {
   "cell_type": "markdown",
   "metadata": {},
   "source": [
    "![points](./images/points.png){width=\"50%\"}"
   ]
  },
  {
   "cell_type": "markdown",
   "metadata": {},
   "source": [
    "### Curve\n",
    "\n",
    "The ``Curve`` object, also known as a polyline, is often used to define contours, survey lines or geological contacts. It is a sub-class of the ``Points`` object with the added `cells` property, that defines the line segments connecting its `vertices`. By default, all vertices are connected sequentially following the order of the input `vertices`."
   ]
  },
  {
   "cell_type": "code",
   "execution_count": 16,
   "metadata": {},
   "outputs": [],
   "source": [
    "from geoh5py.objects import Curve\n",
    "\n",
    "# Create the Curve object\n",
    "curve = Curve.create(\n",
    "    workspace,       # The target Workspace\n",
    "    vertices=xyz\n",
    ")"
   ]
  },
  {
   "cell_type": "markdown",
   "metadata": {},
   "source": [
    "Alternatively, the `cells` property can be modified, either directly or by assigning `parts` identification to each `vertices`:"
   ]
  },
  {
   "cell_type": "code",
   "execution_count": 17,
   "metadata": {},
   "outputs": [],
   "source": [
    "# Split the curve into two parts\n",
    "part_id = np.ones(n, dtype=\"int32\")\n",
    "part_id[:75] = 2\n",
    "\n",
    "# Assign the part\n",
    "curve.parts = part_id\n",
    "workspace.finalize()"
   ]
  },
  {
   "cell_type": "markdown",
   "metadata": {},
   "source": [
    "![line](./images/line.png){width=\"50%\"}"
   ]
  },
  {
   "cell_type": "markdown",
   "metadata": {},
   "source": [
    "### Surface\n",
    "\n",
    "\n",
    "The ``Surface`` object is also described `vertices` and `cells` that forms a net of triangles. If omited on creation, the `cells` property is calculated using a 2D `scipy.spatial.Delaunay` triangulation."
   ]
  },
  {
   "cell_type": "code",
   "execution_count": 18,
   "metadata": {},
   "outputs": [],
   "source": [
    "from geoh5py.objects import Surface\n",
    "from scipy.spatial import Delaunay\n",
    "\n",
    "# Create a triangulated surface from points\n",
    "surf_2D = Delaunay(xyz[:, :2])\n",
    "\n",
    "# Create the Surface object\n",
    "surface = Surface.create(\n",
    "    workspace, \n",
    "    vertices=points.vertices, # Add vertices\n",
    "    cells=surf_2D.simplices\n",
    ")"
   ]
  },
  {
   "cell_type": "markdown",
   "metadata": {},
   "source": [
    "![surface](./images/surface.png){width=\"50%\"}"
   ]
  },
  {
   "cell_type": "markdown",
   "metadata": {},
   "source": [
    "### Grid2D\n",
    "\n",
    "\n",
    "The `Grid2D` object defines a regular grid of `cells` often used to display model sections or to compute data derivatives.\n",
    "A `Grid2D` can be oriented in 3D space using the its `origin`, `rotation` and `dip` parameters."
   ]
  },
  {
   "cell_type": "code",
   "execution_count": 19,
   "metadata": {},
   "outputs": [],
   "source": [
    "from geoh5py.objects import Grid2D\n",
    "\n",
    "# Create the Surface object\n",
    "grid = Grid2D.create(\n",
    "    workspace,\n",
    "    origin = [25, -75, 50],\n",
    "    u_cell_size = 2.5,\n",
    "    v_cell_size = 2.5,\n",
    "    u_count = 64,\n",
    "    v_count = 16,\n",
    "    rotation = 90.0,\n",
    "    dip = 45.0,\n",
    ")"
   ]
  },
  {
   "cell_type": "markdown",
   "metadata": {},
   "source": [
    "![grid2d](./images/grid2d.png){width=\"50%\"}"
   ]
  },
  {
   "cell_type": "markdown",
   "metadata": {},
   "source": [
    "### BlockModel\n",
    "\n",
    "\n",
    "The ``BlockModel`` object defines a rectilinear grid of cells, also known as a tensor mesh. The `cells` center position is determined by `cell_delimiters` (offsets) along perpendicular axes (`u`, `v`, `z`) and relative to the `origin`. ``BlockModel`` can be oriented horizontally by controling the `rotation` parameter. "
   ]
  },
  {
   "cell_type": "code",
   "execution_count": 20,
   "metadata": {},
   "outputs": [],
   "source": [
    "from geoh5py.objects import BlockModel\n",
    "\n",
    "# Create the Surface object\n",
    "blockmodel = BlockModel.create(\n",
    "    workspace,\n",
    "    origin = [25, -100, 50],\n",
    "    u_cell_delimiters=np.cumsum(np.ones(16) * 5), # Offsets along u\n",
    "    v_cell_delimiters=np.cumsum(np.ones(32) * 5), # Offsets along v\n",
    "    z_cell_delimiters=np.cumsum(np.ones(16) * -2.5),  # Offsets along z (down)\n",
    "    rotation = 30.0\n",
    ")"
   ]
  },
  {
   "cell_type": "markdown",
   "metadata": {},
   "source": [
    "![blockmodel](./images/blockmodel.png){width=\"50%\"}"
   ]
  },
  {
   "cell_type": "markdown",
   "metadata": {},
   "source": [
    "### Octree\n",
    "\n",
    "\n",
    "The ``Octree`` object is type of 3D grid that uses a tree structure to define `cells`. Each cell can be subdivided it into eight octants allowing for a more efficient local refinement of the mesh. The ``Octree`` object can also be oriented horizontally by controling the `rotation` parameter. "
   ]
  },
  {
   "cell_type": "code",
   "execution_count": 21,
   "metadata": {},
   "outputs": [],
   "source": [
    "from geoh5py.objects import Octree\n",
    "\n",
    "octree = Octree.create(\n",
    "        workspace,\n",
    "        origin=[25, -100, 50],\n",
    "        u_count=16,      # Number of cells in power 2\n",
    "        v_count=32,      \n",
    "        w_count=16,\n",
    "        u_cell_size=5.0, # Base cell size (highest octree level)\n",
    "        v_cell_size=5.0,\n",
    "        w_cell_size=2.5, # Offsets along z (down)\n",
    "        rotation=30,\n",
    ")"
   ]
  },
  {
   "cell_type": "markdown",
   "metadata": {},
   "source": [
    "By default, the octree mesh will be refined at the lowest level possible along each axes.\n",
    "\n",
    "![octree](./images/octree.png){width=\"50%\"}"
   ]
  },
  {
   "cell_type": "markdown",
   "metadata": {},
   "source": [
    "## Data\n",
    "\n",
    "The `geoh5` format allows to store data (values) on different part of an ``Object``. The `data_association` can be one of:\n",
    "\n",
    "- OBJECT: Single element characterizing the parent object\n",
    "- VERTEX: Array of values associated with the parent object vertices\n",
    "- CELL: Array of values associated with the parent object cells \n",
    "\n",
    "Note: The lenght and order of the array provided must be consistant with the corresponding element of association.  \n",
    "\n",
    "The data types supported by `geoh5py` are:\n",
    "\n",
    "- Arrays\n",
    "- Integer\n",
    "- Text\n",
    "- Color_map\n",
    "\n",
    "![data](./images/data.png)"
   ]
  },
  {
   "cell_type": "markdown",
   "metadata": {},
   "source": [
    "### Add data\n",
    "\n",
    "Data can be added to an `Object` entity using the `add_data` method."
   ]
  },
  {
   "cell_type": "code",
   "execution_count": 22,
   "metadata": {},
   "outputs": [
    {
     "data": {
      "text/plain": [
       "[<geoh5py.data.float_data.FloatData at 0x23fd5b98708>,\n",
       " <geoh5py.data.float_data.FloatData at 0x23fd5ba56c8>]"
      ]
     },
     "execution_count": 22,
     "metadata": {},
     "output_type": "execute_result"
    }
   ],
   "source": [
    "# Add a single string comment\n",
    "curve.add_data({\n",
    "    \"my_comment\": {\n",
    "        \"association\":\"OBJECT\", \n",
    "        \"values\": \"hello_world\"\n",
    "    }\n",
    "})\n",
    "\n",
    "# Add a vector of floats\n",
    "curve.add_data({\n",
    "    \"sine_values\": {\n",
    "        \"association\":\"VERTEX\", \n",
    "        \"values\": np.sin(curve.vertices[:, 0]*np.pi/curve.vertices[:, 0].max())\n",
    "    }\n",
    "})\n",
    "\n",
    "# Add multiple data vectors on a single call\n",
    "curve.add_data({\n",
    "    \"cosine_values\": {\n",
    "        \"association\":\"VERTEX\", \n",
    "        \"values\": np.cos(curve.vertices[:, 0]*np.pi/curve.vertices[:, 0].max())\n",
    "    },\n",
    "    \"my_cell_values\": {\n",
    "        \"association\":\"CELL\", \n",
    "        \"values\": np.random.randn(curve.n_cells)\n",
    "    }\n",
    "})"
   ]
  },
  {
   "cell_type": "markdown",
   "metadata": {},
   "source": [
    "The newly created data is directly added to the project's `geoh5` file and available for visualization:\n",
    "\n",
    "![add_data](./images/add_data.png)"
   ]
  },
  {
   "cell_type": "markdown",
   "metadata": {},
   "source": [
    "### Get data\n",
    "Just like any `Entity`, data can be retrieved from the `Workspace` using the `get_entity` method. For convenience, `Objects` also have a `get_data_list` and `get_data` method that focusses only on their respective children `Data`."
   ]
  },
  {
   "cell_type": "code",
   "execution_count": 23,
   "metadata": {},
   "outputs": [
    {
     "name": "stdout",
     "output_type": "stream",
     "text": [
      "['cosine_values', 'my_cell_values', 'my_comment'] [<geoh5py.data.float_data.FloatData object at 0x0000023FD5B98708>]\n"
     ]
    }
   ],
   "source": [
    "my_list = curve.get_data_list()\n",
    "print(my_list, curve.get_data(my_list[0]))"
   ]
  },
  {
   "cell_type": "markdown",
   "metadata": {},
   "source": [
    "### Property Groups\n",
    "\n",
    "`Data` entities sharing the same parent `Object` and `association` can be linked within a `property_groups` and made available through profiling."
   ]
  },
  {
   "cell_type": "code",
   "execution_count": 24,
   "metadata": {},
   "outputs": [
    {
     "data": {
      "text/plain": [
       "<geoh5py.groups.property_group.PropertyGroup at 0x23fd5ba5088>"
      ]
     },
     "execution_count": 24,
     "metadata": {},
     "output_type": "execute_result"
    }
   ],
   "source": [
    "# Add another VERTEX data and create a group with previous\n",
    "curve.add_data_to_group(['sine_values', 'cosine_values'], \"my_trig_group\")"
   ]
  }
 ],
 "metadata": {
  "kernelspec": {
   "display_name": "Python 3",
   "language": "python",
   "name": "python3"
  },
  "language_info": {
   "codemirror_mode": {
    "name": "ipython",
    "version": 3
   },
   "file_extension": ".py",
   "mimetype": "text/x-python",
   "name": "python",
   "nbconvert_exporter": "python",
   "pygments_lexer": "ipython3",
   "version": "3.7.4"
  }
 },
 "nbformat": 4,
 "nbformat_minor": 2
}
